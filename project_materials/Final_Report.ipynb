{
 "cells": [
  {
   "cell_type": "markdown",
   "id": "51b02ad5-3ba4-4ddf-a9e2-9a60e9825b3c",
   "metadata": {},
   "source": [
    "# TDT4173: Project Report - AIS Vessel Trajectory Prediction"
   ]
  },
  {
   "cell_type": "markdown",
   "id": "05e83ef8-8a3f-4fc6-a39c-fe25fdcdbfd9",
   "metadata": {},
   "source": [
    "## Group number, team name: 175, Sail Before You Fail"
   ]
  },
  {
   "cell_type": "markdown",
   "id": "786a209c-b0f2-45c9-9669-d4167babc0e3",
   "metadata": {},
   "source": [
    "### Authors (Student ID): Mohamed Barry (527651), Selma Helgesen Kjosnes (543877), Martin Olderskog (507397)"
   ]
  },
  {
   "cell_type": "markdown",
   "id": "0f2c4216-96e3-4c9b-9e5c-a6e770243469",
   "metadata": {},
   "source": [
    "# Introduction: The Problem"
   ]
  },
  {
   "cell_type": "markdown",
   "id": "9757105d-00b3-4e14-a286-2a41d2a2ea3e",
   "metadata": {},
   "source": [
    "This is a report for the work in TDT4173 - Modern Machine Learning in Practice. In this project we have chosen to use two different machine learning models, the famous random forest algorithm of which we achieved a score of 104 public and a neural network model developed by Google called TabNet.\n",
    "\n",
    "This concise report will outline our strategies together with two short notebooks to reproduce our results. In section 2 of the report we will go through our process of performing exploratory data analysis, in section 3 we will go through the feature engineering performed including steps of feature selection and feature extraction, in section 4 of the report we will present the models of choice being Random Forest and TabNet, while in section 5 we will go through the model interpretation before ending it with section 6 which is discussion and conclusion. "
   ]
  },
  {
   "cell_type": "markdown",
   "id": "d0c8ef3d-bb00-4673-b857-63ab880b2ea2",
   "metadata": {},
   "source": [
    "# Data prepping"
   ]
  },
  {
   "cell_type": "code",
   "execution_count": 1,
   "id": "52c39a0e-3113-4567-a87d-ac1a6fdbeedb",
   "metadata": {},
   "outputs": [
    {
     "data": {
      "text/html": [
       "<div>\n",
       "<style scoped>\n",
       "    .dataframe tbody tr th:only-of-type {\n",
       "        vertical-align: middle;\n",
       "    }\n",
       "\n",
       "    .dataframe tbody tr th {\n",
       "        vertical-align: top;\n",
       "    }\n",
       "\n",
       "    .dataframe thead th {\n",
       "        text-align: right;\n",
       "    }\n",
       "</style>\n",
       "<table border=\"1\" class=\"dataframe\">\n",
       "  <thead>\n",
       "    <tr style=\"text-align: right;\">\n",
       "      <th></th>\n",
       "      <th>time</th>\n",
       "      <th>cog</th>\n",
       "      <th>sog</th>\n",
       "      <th>rot</th>\n",
       "      <th>heading</th>\n",
       "      <th>navstat</th>\n",
       "      <th>etaRaw</th>\n",
       "      <th>latitude</th>\n",
       "      <th>longitude</th>\n",
       "      <th>vesselId</th>\n",
       "      <th>portId</th>\n",
       "    </tr>\n",
       "  </thead>\n",
       "  <tbody>\n",
       "    <tr>\n",
       "      <th>254896</th>\n",
       "      <td>2024-01-23 10:38:14</td>\n",
       "      <td>130.3</td>\n",
       "      <td>0.0</td>\n",
       "      <td>0</td>\n",
       "      <td>24</td>\n",
       "      <td>0</td>\n",
       "      <td>01-23 05:00</td>\n",
       "      <td>39.44720</td>\n",
       "      <td>-0.31058</td>\n",
       "      <td>61e9f3c8b937134a3c4bfeeb</td>\n",
       "      <td>61d37fbc29b60f6113c89ea5</td>\n",
       "    </tr>\n",
       "    <tr>\n",
       "      <th>816415</th>\n",
       "      <td>2024-03-12 02:15:50</td>\n",
       "      <td>0.6</td>\n",
       "      <td>14.9</td>\n",
       "      <td>0</td>\n",
       "      <td>2</td>\n",
       "      <td>0</td>\n",
       "      <td>03-08 23:00</td>\n",
       "      <td>22.82759</td>\n",
       "      <td>-74.66635</td>\n",
       "      <td>61e9f41bb937134a3c4c0087</td>\n",
       "      <td>634c4de270937fc01c3a701c</td>\n",
       "    </tr>\n",
       "    <tr>\n",
       "      <th>636095</th>\n",
       "      <td>2024-02-24 20:42:11</td>\n",
       "      <td>65.2</td>\n",
       "      <td>14.8</td>\n",
       "      <td>-1</td>\n",
       "      <td>65</td>\n",
       "      <td>0</td>\n",
       "      <td>02-25 06:00</td>\n",
       "      <td>38.92611</td>\n",
       "      <td>-74.18567</td>\n",
       "      <td>631e3d5e192150e13fa41626</td>\n",
       "      <td>61d38435b7b7526e1adf3cdb</td>\n",
       "    </tr>\n",
       "    <tr>\n",
       "      <th>1256536</th>\n",
       "      <td>2024-04-16 05:39:53</td>\n",
       "      <td>192.7</td>\n",
       "      <td>16.1</td>\n",
       "      <td>-12</td>\n",
       "      <td>192</td>\n",
       "      <td>0</td>\n",
       "      <td>04-20 05:00</td>\n",
       "      <td>39.06395</td>\n",
       "      <td>-11.81015</td>\n",
       "      <td>61e9f417b937134a3c4c006d</td>\n",
       "      <td>634c4de270937fc01c3a76a1</td>\n",
       "    </tr>\n",
       "    <tr>\n",
       "      <th>937423</th>\n",
       "      <td>2024-03-21 10:38:50</td>\n",
       "      <td>237.5</td>\n",
       "      <td>17.5</td>\n",
       "      <td>3</td>\n",
       "      <td>237</td>\n",
       "      <td>0</td>\n",
       "      <td>03-22 11:30</td>\n",
       "      <td>49.44536</td>\n",
       "      <td>-4.28412</td>\n",
       "      <td>clh6aqawa0001gh0zmijpuho1</td>\n",
       "      <td>61d37fb929b60f6113c89ea0</td>\n",
       "    </tr>\n",
       "  </tbody>\n",
       "</table>\n",
       "</div>"
      ],
      "text/plain": [
       "                        time    cog   sog  rot  heading  navstat       etaRaw  \\\n",
       "254896   2024-01-23 10:38:14  130.3   0.0    0       24        0  01-23 05:00   \n",
       "816415   2024-03-12 02:15:50    0.6  14.9    0        2        0  03-08 23:00   \n",
       "636095   2024-02-24 20:42:11   65.2  14.8   -1       65        0  02-25 06:00   \n",
       "1256536  2024-04-16 05:39:53  192.7  16.1  -12      192        0  04-20 05:00   \n",
       "937423   2024-03-21 10:38:50  237.5  17.5    3      237        0  03-22 11:30   \n",
       "\n",
       "         latitude  longitude                   vesselId  \\\n",
       "254896   39.44720   -0.31058   61e9f3c8b937134a3c4bfeeb   \n",
       "816415   22.82759  -74.66635   61e9f41bb937134a3c4c0087   \n",
       "636095   38.92611  -74.18567   631e3d5e192150e13fa41626   \n",
       "1256536  39.06395  -11.81015   61e9f417b937134a3c4c006d   \n",
       "937423   49.44536   -4.28412  clh6aqawa0001gh0zmijpuho1   \n",
       "\n",
       "                           portId  \n",
       "254896   61d37fbc29b60f6113c89ea5  \n",
       "816415   634c4de270937fc01c3a701c  \n",
       "636095   61d38435b7b7526e1adf3cdb  \n",
       "1256536  634c4de270937fc01c3a76a1  \n",
       "937423   61d37fb929b60f6113c89ea0  "
      ]
     },
     "execution_count": 1,
     "metadata": {},
     "output_type": "execute_result"
    }
   ],
   "source": [
    "import pandas as pd\n",
    "import geopandas as gpd\n",
    "import matplotlib.pyplot as plt\n",
    "import numpy as np\n",
    "import os\n",
    "\n",
    "#import csv ais_train.csv\n",
    "df_train = pd.read_csv('data/ais_train.csv', delimiter='|')\n",
    "df_train.sample(5)    "
   ]
  },
  {
   "cell_type": "code",
   "execution_count": 2,
   "id": "de0f73eb-5dd0-4e2d-867e-974b0bebcdf7",
   "metadata": {},
   "outputs": [],
   "source": [
    "# Convert type of \"time\" column to datetime\n",
    "df_train['time'] = pd.to_datetime(df_train['time'])"
   ]
  },
  {
   "cell_type": "code",
   "execution_count": 3,
   "id": "6f23c701-4201-4ae1-bde1-a431cb2274be",
   "metadata": {},
   "outputs": [],
   "source": [
    "#import ais_test.csv\n",
    "df_test = pd.read_csv('data/ais_test.csv', delimiter=',')\n",
    "df_test.sample(5)\n",
    "\n",
    "# Convert type of \"time\" column to datetime\n",
    "df_test['time'] = pd.to_datetime(df_test['time'])"
   ]
  },
  {
   "cell_type": "code",
   "execution_count": 4,
   "id": "830efd50-86c4-4b90-a7a5-efaf2150f1a7",
   "metadata": {},
   "outputs": [
    {
     "data": {
      "text/html": [
       "<div>\n",
       "<style scoped>\n",
       "    .dataframe tbody tr th:only-of-type {\n",
       "        vertical-align: middle;\n",
       "    }\n",
       "\n",
       "    .dataframe tbody tr th {\n",
       "        vertical-align: top;\n",
       "    }\n",
       "\n",
       "    .dataframe thead th {\n",
       "        text-align: right;\n",
       "    }\n",
       "</style>\n",
       "<table border=\"1\" class=\"dataframe\">\n",
       "  <thead>\n",
       "    <tr style=\"text-align: right;\">\n",
       "      <th></th>\n",
       "      <th>vesselId</th>\n",
       "      <th>shippingLineId</th>\n",
       "      <th>shippingLineName</th>\n",
       "      <th>arrivalDate</th>\n",
       "      <th>sailingDate</th>\n",
       "      <th>portName</th>\n",
       "      <th>portId</th>\n",
       "      <th>portLatitude</th>\n",
       "      <th>portLongitude</th>\n",
       "    </tr>\n",
       "  </thead>\n",
       "  <tbody>\n",
       "    <tr>\n",
       "      <th>76099</th>\n",
       "      <td>61e9f3adb937134a3c4bfe2f</td>\n",
       "      <td>61a8e672f9cba188601e84ac</td>\n",
       "      <td>Wallenius Wilhelmsen Ocean</td>\n",
       "      <td>2024-08-11 00:00:00+00:00</td>\n",
       "      <td>2024-08-11 00:00:00+00:00</td>\n",
       "      <td>Port of Yokohama</td>\n",
       "      <td>61d379f61366c3998241d8d2</td>\n",
       "      <td>35.436389</td>\n",
       "      <td>139.667778</td>\n",
       "    </tr>\n",
       "    <tr>\n",
       "      <th>43139</th>\n",
       "      <td>61e9f3b1b937134a3c4bfe53</td>\n",
       "      <td>61a8e672f9cba188601e84ac</td>\n",
       "      <td>Wallenius Wilhelmsen Ocean</td>\n",
       "      <td>2023-10-07 00:00:00+00:00</td>\n",
       "      <td>2023-10-08 00:00:00+00:00</td>\n",
       "      <td>Port of Baltimore</td>\n",
       "      <td>61d3847bb7b7526e1adf3d19</td>\n",
       "      <td>39.232500</td>\n",
       "      <td>-76.558889</td>\n",
       "    </tr>\n",
       "    <tr>\n",
       "      <th>90277</th>\n",
       "      <td>61e9f41cb937134a3c4c008d</td>\n",
       "      <td>61a8e672f9cba188601e84ab</td>\n",
       "      <td>Hoegh Autoliners</td>\n",
       "      <td>2023-09-25 16:00:00+00:00</td>\n",
       "      <td>2023-09-26 16:00:00+00:00</td>\n",
       "      <td>Port of Kobe</td>\n",
       "      <td>61d37a101366c3998241d905</td>\n",
       "      <td>34.684167</td>\n",
       "      <td>135.240833</td>\n",
       "    </tr>\n",
       "    <tr>\n",
       "      <th>40991</th>\n",
       "      <td>NaN</td>\n",
       "      <td>61a8e673f9cba188601e84ae</td>\n",
       "      <td>K-Line</td>\n",
       "      <td>2024-04-04 00:00:00+00:00</td>\n",
       "      <td>2024-04-05 00:00:00+00:00</td>\n",
       "      <td>Port Charleston</td>\n",
       "      <td>61d3847cb7b7526e1adf3d1b</td>\n",
       "      <td>32.822222</td>\n",
       "      <td>-79.927500</td>\n",
       "    </tr>\n",
       "    <tr>\n",
       "      <th>32085</th>\n",
       "      <td>61e9f3a8b937134a3c4bfdf9</td>\n",
       "      <td>61a8e672f9cba188601e84ab</td>\n",
       "      <td>Hoegh Autoliners</td>\n",
       "      <td>2024-02-29 06:30:00+00:00</td>\n",
       "      <td>2024-02-29 13:45:00+00:00</td>\n",
       "      <td>Port of Hiroshima</td>\n",
       "      <td>61d37a021366c3998241d8ea</td>\n",
       "      <td>34.365278</td>\n",
       "      <td>132.424167</td>\n",
       "    </tr>\n",
       "  </tbody>\n",
       "</table>\n",
       "</div>"
      ],
      "text/plain": [
       "                       vesselId            shippingLineId  \\\n",
       "76099  61e9f3adb937134a3c4bfe2f  61a8e672f9cba188601e84ac   \n",
       "43139  61e9f3b1b937134a3c4bfe53  61a8e672f9cba188601e84ac   \n",
       "90277  61e9f41cb937134a3c4c008d  61a8e672f9cba188601e84ab   \n",
       "40991                       NaN  61a8e673f9cba188601e84ae   \n",
       "32085  61e9f3a8b937134a3c4bfdf9  61a8e672f9cba188601e84ab   \n",
       "\n",
       "                 shippingLineName                arrivalDate  \\\n",
       "76099  Wallenius Wilhelmsen Ocean  2024-08-11 00:00:00+00:00   \n",
       "43139  Wallenius Wilhelmsen Ocean  2023-10-07 00:00:00+00:00   \n",
       "90277            Hoegh Autoliners  2023-09-25 16:00:00+00:00   \n",
       "40991                      K-Line  2024-04-04 00:00:00+00:00   \n",
       "32085            Hoegh Autoliners  2024-02-29 06:30:00+00:00   \n",
       "\n",
       "                     sailingDate           portName                    portId  \\\n",
       "76099  2024-08-11 00:00:00+00:00   Port of Yokohama  61d379f61366c3998241d8d2   \n",
       "43139  2023-10-08 00:00:00+00:00  Port of Baltimore  61d3847bb7b7526e1adf3d19   \n",
       "90277  2023-09-26 16:00:00+00:00       Port of Kobe  61d37a101366c3998241d905   \n",
       "40991  2024-04-05 00:00:00+00:00    Port Charleston  61d3847cb7b7526e1adf3d1b   \n",
       "32085  2024-02-29 13:45:00+00:00  Port of Hiroshima  61d37a021366c3998241d8ea   \n",
       "\n",
       "       portLatitude  portLongitude  \n",
       "76099     35.436389     139.667778  \n",
       "43139     39.232500     -76.558889  \n",
       "90277     34.684167     135.240833  \n",
       "40991     32.822222     -79.927500  \n",
       "32085     34.365278     132.424167  "
      ]
     },
     "execution_count": 4,
     "metadata": {},
     "output_type": "execute_result"
    }
   ],
   "source": [
    "#import schedules_to_may_2024.csv\n",
    "df_schedules = pd.read_csv('data/schedules_to_may_2024.csv', delimiter='|')\n",
    "df_schedules.sample(5)\n"
   ]
  },
  {
   "cell_type": "code",
   "execution_count": 5,
   "id": "517584a4-17c9-4c31-8f94-4adee91b08ce",
   "metadata": {},
   "outputs": [],
   "source": [
    "# import ports\n",
    "df_ports = pd.read_csv('data/ports.csv', delimiter='|')"
   ]
  },
  {
   "cell_type": "code",
   "execution_count": 6,
   "id": "21d36d16-0ab6-4258-8bdb-2676405cf454",
   "metadata": {},
   "outputs": [
    {
     "name": "stdout",
     "output_type": "stream",
     "text": [
      "Number of vessels in df_test that are not in df_schedules: 148\n",
      "Total number of vessels in df_test: 215\n"
     ]
    }
   ],
   "source": [
    "# Check if there are any unique vlaues in df_test \"vesselID\" that are not in df_schedule \"vesselID\"\n",
    "vesselID_schedule = df_schedules['vesselId'].unique()\n",
    "vesselID_test = df_test['vesselId'].unique()\n",
    "\n",
    "\n",
    "counter = 0\n",
    "for vessel in vesselID_test:\n",
    "    if vessel not in vesselID_schedule:\n",
    "        counter += 1\n",
    "print('Number of vessels in df_test that are not in df_schedules:', counter)\n",
    "# total vessels\n",
    "print('Total number of vessels in df_test:', len(vesselID_test))"
   ]
  },
  {
   "cell_type": "code",
   "execution_count": 7,
   "id": "7c177619-72ad-4059-8dde-f4096f1a05ee",
   "metadata": {},
   "outputs": [],
   "source": [
    "import pandas as pd\n",
    "from geopy.distance import geodesic\n",
    "\n",
    "# Ensure time columns are datetime format\n",
    "df_train['time'] = pd.to_datetime(df_train['time'])\n",
    "df_test['time'] = pd.to_datetime(df_test['time'])\n",
    "\n",
    "# Compute the time difference between consecutive points (grouped by vesselId)\n",
    "df_train['time_difference'] = df_train.groupby('vesselId')['time'].diff().dt.total_seconds()\n",
    "df_test['time_difference'] = df_test.groupby('vesselId')['time'].diff().dt.total_seconds()\n",
    "\n",
    "# Calculate previous latitude and longitude\n",
    "df_train['lat_prev'] = df_train.groupby('vesselId')['latitude'].shift(1)\n",
    "df_train['lon_prev'] = df_train.groupby('vesselId')['longitude'].shift(1)\n",
    "\n",
    "\n",
    "# Get distance moved between two consecutive points\n",
    "def get_distance(lat, lon, lat_prev, lon_prev):\n",
    "    if pd.notna(lat_prev) and pd.notna(lon_prev):\n",
    "        return geodesic((lat, lon), (lat_prev, lon_prev)).meters\n",
    "    else:\n",
    "        return 0  # No previous data point means no movement\n",
    "\n",
    "# Apply vectorized function for distance calculation\n",
    "df_train['distance'] = df_train.apply(lambda row: get_distance(row['latitude'], row['longitude'], row['lat_prev'], row['lon_prev']), axis=1)\n",
    "\n",
    "# Drop unnecessary columns\n",
    "df_train.drop(['lat_prev', 'lon_prev'], axis=1, inplace=True)\n"
   ]
  },
  {
   "cell_type": "code",
   "execution_count": 8,
   "id": "5685eb1e-1a2c-415f-b2ee-bb86ac452be1",
   "metadata": {},
   "outputs": [],
   "source": [
    "# Ensure time_difference and distance are present\n",
    "df_train['time_difference'] = df_train['time_difference'].fillna(0)\n",
    "df_train['distance'] = df_train['distance'].fillna(0)\n",
    "\n",
    "# Calculate average speed (in meters per second)\n",
    "df_train['avg_speed'] = df_train['distance'] / df_train['time_difference']\n",
    "\n",
    "# Handle cases where time_difference is zero to avoid division by zero errors\n",
    "df_train['avg_speed'] = df_train['avg_speed'].replace([np.inf, -np.inf], 0).fillna(0)\n",
    "\n",
    "# Convert avg_speed to knots (optional)\n",
    "df_train['avg_speed_knots'] = df_train['avg_speed'] * 1.94384  # 1 m/s = 1.94384 knots\n"
   ]
  },
  {
   "cell_type": "code",
   "execution_count": 9,
   "id": "d8b6b8d7-a149-4476-b850-137150fad87b",
   "metadata": {},
   "outputs": [],
   "source": [
    "# for both train and test dataframes\n",
    "# add a column \"moving\" that is 1 if \"movedSinceLastDatapoint\" > 100, otherwise 0\n",
    "\n",
    "df_train['moving'] = df_train['distance'].apply(lambda x: 1 if x > 100 else 0)\n",
    "\n",
    "# add a moving_speed column that is 1 if \"avg_speed_knots\" > 1, otherwise 0\n",
    "df_train['moving_speed'] = df_train['avg_speed_knots'].apply(lambda x: 1 if x > 1 else 0)\n"
   ]
  },
  {
   "cell_type": "code",
   "execution_count": 10,
   "id": "925f607f-0058-47d5-84c5-bb24fe365d26",
   "metadata": {},
   "outputs": [],
   "source": [
    "# add column \"moving_based_on_speed\" that is 1 if \"avg_speed_knots\" > 1, otherwise 0\n",
    "df_train['moving_based_on_speed'] = df_train['avg_speed_knots'].apply(lambda x: 1 if x > 1 else 0)\n"
   ]
  },
  {
   "cell_type": "code",
   "execution_count": 11,
   "id": "baead2d3-0699-4323-a606-9486cb9c7dbf",
   "metadata": {},
   "outputs": [
    {
     "name": "stdout",
     "output_type": "stream",
     "text": [
      "moving\n",
      "1    775998\n",
      "0    746067\n",
      "Name: count, dtype: int64\n",
      "moving_based_on_speed\n",
      "0    791864\n",
      "1    730201\n",
      "Name: count, dtype: int64\n"
     ]
    }
   ],
   "source": [
    "# explore how similar these are\n",
    "print(df_train['moving'].value_counts())\n",
    "print(df_train['moving_based_on_speed'].value_counts())"
   ]
  },
  {
   "cell_type": "code",
   "execution_count": 12,
   "id": "f16514a8-d476-42a4-a275-936f693d210c",
   "metadata": {},
   "outputs": [],
   "source": [
    "import numpy as np\n",
    "\n",
    "def calculate_bearing(lat1, lon1, lat2, lon2):\n",
    "    \"\"\"\n",
    "    Calculate the bearing between two latitude/longitude points.\n",
    "    The formula is based on the initial bearing from point 1 to point 2.\n",
    "    \"\"\"\n",
    "    lat1, lon1, lat2, lon2 = map(np.radians, [lat1, lon1, lat2, lon2])\n",
    "    dlon = lon2 - lon1\n",
    "    x = np.sin(dlon) * np.cos(lat2)\n",
    "    y = np.cos(lat1) * np.sin(lat2) - np.sin(lat1) * np.cos(lat2) * np.cos(dlon)\n",
    "    bearing = np.degrees(np.arctan2(x, y))\n",
    "    return (bearing + 360) % 360  # Normalize to 0-360 degrees\n",
    "\n",
    "# Calculate bearing between consecutive points\n",
    "df_train['lat_prev'] = df_train.groupby('vesselId')['latitude'].shift(1)\n",
    "df_train['lon_prev'] = df_train.groupby('vesselId')['longitude'].shift(1)\n",
    "\n",
    "df_train['bearing'] = df_train.apply(lambda row: calculate_bearing(row['lat_prev'], row['lon_prev'], row['latitude'], row['longitude']), axis=1)\n",
    "\n",
    "# Drop the unnecessary columns\n",
    "df_train.drop(['lat_prev', 'lon_prev'], axis=1, inplace=True)\n"
   ]
  },
  {
   "cell_type": "code",
   "execution_count": 13,
   "id": "b724d1fa-9e1f-41bd-8150-278ff1be568c",
   "metadata": {},
   "outputs": [],
   "source": [
    "# Calculate change in speed (acceleration) over time\n",
    "df_train['prev_speed'] = df_train.groupby('vesselId')['sog'].shift(1)  # Shift previous speed over ground (sog)\n",
    "df_train['acceleration'] = (df_train['sog'] - df_train['prev_speed']) / df_train['time_difference']\n",
    "\n",
    "# Fill NaN values with 0 for the first row of each vessel\n",
    "df_train['acceleration'] = df_train['acceleration'].fillna(0)\n",
    "df_train.drop('prev_speed', axis=1, inplace=True)  # Clean up unnecessary columns"
   ]
  },
  {
   "cell_type": "code",
   "execution_count": 14,
   "id": "4a6b1c77-21ee-4606-893e-624c15f4781a",
   "metadata": {},
   "outputs": [],
   "source": [
    "# Calculate heading change (turn rate)\n",
    "df_train['prev_heading'] = df_train.groupby('vesselId')['heading'].shift(1)\n",
    "df_train['heading_change'] = df_train['heading'] - df_train['prev_heading']\n",
    "\n",
    "# Normalize heading change to -180 to 180 degrees to avoid large jumps in the values\n",
    "df_train['heading_change'] = df_train['heading_change'].apply(lambda x: (x + 180) % 360 - 180)\n",
    "\n",
    "df_train.drop('prev_heading', axis=1, inplace=True)"
   ]
  },
  {
   "cell_type": "code",
   "execution_count": 15,
   "id": "4aa811fd-a19e-4f27-b167-e0ad7bc81185",
   "metadata": {},
   "outputs": [],
   "source": [
    "# Extract hour of the day\n",
    "df_train['hour_of_day'] = df_train['time'].dt.hour\n",
    "\n",
    "# Extract day of the week (0 = Monday, 6 = Sunday)\n",
    "df_train['day_of_week'] = df_train['time'].dt.dayofweek"
   ]
  },
  {
   "cell_type": "code",
   "execution_count": 16,
   "id": "6c050030-8b3d-4050-af84-13ac43926093",
   "metadata": {},
   "outputs": [
    {
     "name": "stdout",
     "output_type": "stream",
     "text": [
      "Amount of unique vessels in test: 215\n"
     ]
    }
   ],
   "source": [
    "# Print amount of unique vessels in test:\n",
    "print('Amount of unique vessels in test:', len(df_test['vesselId'].unique()))\n",
    "\n",
    "# Combine the unique vessel IDs from both train and test\n",
    "all_vessels = pd.concat([df_test['vesselId'], df_train['vesselId']]).unique()\n",
    "\n",
    "# Create a mapping from the original vesselId to a sequential integer\n",
    "vessel_mapping = {vessel_id: i for i, vessel_id in enumerate(all_vessels)}\n",
    "\n",
    "# Map the vesselId in both DataFrames using the created mapping\n",
    "df_train['vesselId_mapped'] = df_train['vesselId'].map(vessel_mapping)\n",
    "df_test['vesselId_mapped'] = df_test['vesselId'].map(vessel_mapping)\n",
    "df_schedules['vesselId_mapped'] = df_schedules['vesselId'].map(vessel_mapping)"
   ]
  },
  {
   "cell_type": "code",
   "execution_count": 17,
   "id": "4405731f-e4b2-48bc-8013-2f2c3adbe81c",
   "metadata": {},
   "outputs": [],
   "source": [
    "# rename these in df_ports: [\"portId\", 'name', 'latitude', 'longitude']\n",
    "# to [\"portId\", 'portName', 'PortLatitude', 'PortLongitude']\n",
    "\n",
    "df_ports.rename(columns={\"name\": \"portName\", \"latitude\": \"PortLatitude\", \"longitude\": \"PortLongitude\"}, inplace=True)\n",
    "\n",
    "\n",
    "# Add port name and coordinates to the training data\n",
    "df_train = df_train.merge(df_ports[[\"portId\", 'portName', 'PortLatitude', 'PortLongitude']], on='portId', how='left')"
   ]
  },
  {
   "cell_type": "code",
   "execution_count": 18,
   "id": "78bef11a-493d-40de-8b16-6c710939330c",
   "metadata": {},
   "outputs": [],
   "source": [
    "# For each vesselId_mapped in the test datasets, add 'time_difference_since_start' column\n",
    "# which shows the time difference in seconds since the first datapoint for that vesselId_mapped\n",
    "\n",
    "\n",
    "# Create a dictionary to store the first time for each vesselId_mapped\n",
    "first_time = df_test.groupby('vesselId_mapped')['time'].min().to_dict()\n",
    "\n",
    "# Map the first time to the vesselId_mapped in the test data\n",
    "df_test['time_difference_since_start'] = df_test.apply(lambda row: (row['time'] - first_time[row['vesselId_mapped']]).total_seconds(), axis=1)\n",
    "\n",
    "\n",
    "# Add for train\n",
    "\n",
    "# Create a dictionary to store the first time for each vesselId_mapped\n",
    "first_time = df_train.groupby('vesselId_mapped')['time'].min().to_dict()\n",
    "\n",
    "# Map the first time to the vesselId_mapped in the train data\n",
    "df_train['time_difference_since_start'] = df_train.apply(lambda row: (row['time'] - first_time[row['vesselId_mapped']]).total_seconds(), axis=1)\n",
    "\n",
    "\n",
    "# add time difference sinc start of train to test\n",
    "\n",
    "# Create a dictionary to store the first time for each vesselId_mapped\n",
    "first_time = df_train.groupby('vesselId_mapped')['time'].min().to_dict()\n",
    "\n",
    "# Map the first time to the vesselId_mapped in the test data\n",
    "df_test['time_difference_since_start_train'] = df_test.apply(lambda row: (row['time'] - first_time[row['vesselId_mapped']]).total_seconds(), axis=1)"
   ]
  },
  {
   "cell_type": "code",
   "execution_count": 19,
   "id": "7bcfbb52-9fb9-41dc-97a2-91d91089591c",
   "metadata": {},
   "outputs": [],
   "source": [
    "df_test['index_custom'] = df_test.index"
   ]
  },
  {
   "cell_type": "code",
   "execution_count": 20,
   "id": "99ab86bc-a0ec-471a-ba4f-ee726dcb8c30",
   "metadata": {},
   "outputs": [],
   "source": [
    "# Drop Nan values in \"portLatitude\" in df_schedules\n",
    "df_schedules = df_schedules.dropna(subset=['portLatitude'])"
   ]
  },
  {
   "cell_type": "code",
   "execution_count": 21,
   "id": "07e5a162-e917-4b2b-90ba-e3b7cff06d23",
   "metadata": {},
   "outputs": [],
   "source": [
    "# Convert the datasets prepped here to CSV files\n",
    "df_train.to_csv('data_prep/ais_train_prepped.csv', index=False)\n",
    "df_test.to_csv('data_prep/ais_test_prepped.csv', index=False)\n",
    "df_schedules.to_csv('data_prep/schedules_prepped.csv', index=False)\n",
    "df_ports.to_csv('data_prep/ports_prepped.csv', index=False)"
   ]
  },
  {
   "cell_type": "code",
   "execution_count": 22,
   "id": "ac020e95-766c-4e33-a381-46e873b1616e",
   "metadata": {},
   "outputs": [
    {
     "name": "stdout",
     "output_type": "stream",
     "text": [
      "(1522065, 28)\n",
      "(51739, 9)\n",
      "(131848, 10)\n",
      "(1329, 8)\n"
     ]
    }
   ],
   "source": [
    "# print shape of each\n",
    "print(df_train.shape)\n",
    "print(df_test.shape)\n",
    "print(df_schedules.shape)\n",
    "print(df_ports.shape)"
   ]
  },
  {
   "cell_type": "markdown",
   "id": "b7735e5c-9a2f-41a3-bea9-7e7dd143b329",
   "metadata": {},
   "source": [
    "# Exploratory Data Analysis"
   ]
  },
  {
   "cell_type": "markdown",
   "id": "0c64df87-1472-4503-9d52-fefd88077a8b",
   "metadata": {
    "tags": []
   },
   "source": [
    "Exploratory data analysis is essential in machine learning projects, as it allows us to better understand the data we are working with. Through exploratory data analysis we build an intuition about the data, and are able to get valuable insight into the datasets."
   ]
  },
  {
   "cell_type": "markdown",
   "id": "9b16bfde-6f9c-4f83-90e0-f3ba34ac9a39",
   "metadata": {},
   "source": [
    "## Domain knowledge"
   ]
  },
  {
   "cell_type": "markdown",
   "id": "b6940e56-5823-46c1-9505-169f7515fd78",
   "metadata": {},
   "source": [
    "Domain knowledge is important in order to create a good model. As this project relates to vessel trajectory prediction, having an understanding of vessel behavior and dynamics is valuable. Further, a good amount of knowledge surrounding the ports and their geographical placement is very useful as it pertains to a vessel's trajectory. Vessel sensor data knowledge can also help us better understand the data we are working with. Through exploratory data analysis, we gained this knowledge.\n",
    "\n",
    "Additionally, we familiarized ourselves with the terminology used in relation to vessels and the tracking of them. This terminology was reflected in the dataset (terms such as \"course over ground\", \"speed over ground\", \"rate of turn\", \"latitude/longitude\", and so on)."
   ]
  },
  {
   "cell_type": "markdown",
   "id": "b798bb2f-920e-4662-b03c-ab763472624c",
   "metadata": {
    "tags": []
   },
   "source": [
    "## Check if the data is intuitive"
   ]
  },
  {
   "cell_type": "markdown",
   "id": "15d973d6-a319-4420-8db5-7aa0428e4d81",
   "metadata": {},
   "source": [
    "The dataset is not inherently intuitive, but through the domain knowledge we've gained we were able to interpret the dataset with relative ease. The relevant terminology was easily explained in the \"Dataset definitions and explanation\" document. The document was also helpful in helping us identify the measurement in which the values were given (nautical miles per hour and such). This was particularly helpful in identifying default values, and values that should not be used."
   ]
  },
  {
   "cell_type": "markdown",
   "id": "b6a9ff72-e207-4963-9307-8546e3073cb6",
   "metadata": {
    "tags": []
   },
   "source": [
    "## How the data was generated"
   ]
  },
  {
   "cell_type": "markdown",
   "id": "d8098352-8ac6-4347-b3d8-8bee60356381",
   "metadata": {
    "jp-MarkdownHeadingCollapsed": true,
    "tags": []
   },
   "source": [
    "The data we are working with involves positional and navigational data relating to vessels at sea. As such, it is normal to presume the data is a result of sensory measurements from the vessels themselves. The provided documentation states that the dataset was sampled every 20 minutes, but that the timestamps for each vessel are irregular. Given the fact that the data has been sampled using sensors, we can better understand any missing or incorrect data that is likely to occur from this practice."
   ]
  },
  {
   "cell_type": "markdown",
   "id": "d5786028-19da-40ca-bf14-2750562e65da",
   "metadata": {},
   "source": [
    "## Explore individual features"
   ]
  },
  {
   "cell_type": "code",
   "execution_count": 23,
   "id": "185f74a9-d9f3-4bb9-ab7b-9df41dc960db",
   "metadata": {},
   "outputs": [],
   "source": [
    "import pandas as pd\n",
    "import seaborn as sns\n",
    "import matplotlib.pyplot as plt\n",
    "import numpy as np"
   ]
  },
  {
   "cell_type": "markdown",
   "id": "ba26c4f1-da4a-407e-89bb-b2273a335e1d",
   "metadata": {
    "tags": []
   },
   "source": [
    "### ais_train features"
   ]
  },
  {
   "cell_type": "markdown",
   "id": "450b8c56-9592-4e05-8037-5127ab848276",
   "metadata": {},
   "source": [
    "In order to get an initial impression of the dataset, we print a sample."
   ]
  },
  {
   "cell_type": "code",
   "execution_count": 24,
   "id": "546cb428-6753-4c63-9285-fd7e141e3d15",
   "metadata": {},
   "outputs": [
    {
     "data": {
      "text/html": [
       "<div>\n",
       "<style scoped>\n",
       "    .dataframe tbody tr th:only-of-type {\n",
       "        vertical-align: middle;\n",
       "    }\n",
       "\n",
       "    .dataframe tbody tr th {\n",
       "        vertical-align: top;\n",
       "    }\n",
       "\n",
       "    .dataframe thead th {\n",
       "        text-align: right;\n",
       "    }\n",
       "</style>\n",
       "<table border=\"1\" class=\"dataframe\">\n",
       "  <thead>\n",
       "    <tr style=\"text-align: right;\">\n",
       "      <th></th>\n",
       "      <th>time</th>\n",
       "      <th>cog</th>\n",
       "      <th>sog</th>\n",
       "      <th>rot</th>\n",
       "      <th>heading</th>\n",
       "      <th>navstat</th>\n",
       "      <th>etaRaw</th>\n",
       "      <th>latitude</th>\n",
       "      <th>longitude</th>\n",
       "      <th>vesselId</th>\n",
       "      <th>portId</th>\n",
       "    </tr>\n",
       "  </thead>\n",
       "  <tbody>\n",
       "    <tr>\n",
       "      <th>1522060</th>\n",
       "      <td>2024-05-07 23:59:07</td>\n",
       "      <td>359.1</td>\n",
       "      <td>13.4</td>\n",
       "      <td>0</td>\n",
       "      <td>1</td>\n",
       "      <td>0</td>\n",
       "      <td>05-08 05:00</td>\n",
       "      <td>52.19131</td>\n",
       "      <td>-5.82223</td>\n",
       "      <td>clh6aqawa0002gh0zypfa5dut</td>\n",
       "      <td>634c4de270937fc01c3a7417</td>\n",
       "    </tr>\n",
       "    <tr>\n",
       "      <th>1522061</th>\n",
       "      <td>2024-05-07 23:59:08</td>\n",
       "      <td>12.3</td>\n",
       "      <td>17.1</td>\n",
       "      <td>0</td>\n",
       "      <td>13</td>\n",
       "      <td>0</td>\n",
       "      <td>05-10 03:00</td>\n",
       "      <td>38.96142</td>\n",
       "      <td>-12.00502</td>\n",
       "      <td>61e9f3aeb937134a3c4bfe43</td>\n",
       "      <td>634c4de270937fc01c3a76a1</td>\n",
       "    </tr>\n",
       "    <tr>\n",
       "      <th>1522062</th>\n",
       "      <td>2024-05-07 23:59:08</td>\n",
       "      <td>269.8</td>\n",
       "      <td>14.9</td>\n",
       "      <td>-1</td>\n",
       "      <td>270</td>\n",
       "      <td>0</td>\n",
       "      <td>05-15 23:00</td>\n",
       "      <td>49.71372</td>\n",
       "      <td>-5.22042</td>\n",
       "      <td>61e9f43db937134a3c4c0169</td>\n",
       "      <td>634c4de270937fc01c3a787b</td>\n",
       "    </tr>\n",
       "    <tr>\n",
       "      <th>1522063</th>\n",
       "      <td>2024-05-07 23:59:08</td>\n",
       "      <td>8.0</td>\n",
       "      <td>18.7</td>\n",
       "      <td>0</td>\n",
       "      <td>6</td>\n",
       "      <td>0</td>\n",
       "      <td>05-08 12:45</td>\n",
       "      <td>38.27895</td>\n",
       "      <td>10.78280</td>\n",
       "      <td>61e9f469b937134a3c4c029b</td>\n",
       "      <td>61d3781293c6feb83e5eb73b</td>\n",
       "    </tr>\n",
       "    <tr>\n",
       "      <th>1522064</th>\n",
       "      <td>2024-05-07 23:59:08</td>\n",
       "      <td>336.0</td>\n",
       "      <td>14.3</td>\n",
       "      <td>5</td>\n",
       "      <td>337</td>\n",
       "      <td>0</td>\n",
       "      <td>05-07 23:00</td>\n",
       "      <td>38.98635</td>\n",
       "      <td>-75.13275</td>\n",
       "      <td>62080cff66fc0a8e43c6123a</td>\n",
       "      <td>61d38528b7b7526e1adf3e6f</td>\n",
       "    </tr>\n",
       "  </tbody>\n",
       "</table>\n",
       "</div>"
      ],
      "text/plain": [
       "                       time    cog   sog  rot  heading  navstat       etaRaw  \\\n",
       "1522060 2024-05-07 23:59:07  359.1  13.4    0        1        0  05-08 05:00   \n",
       "1522061 2024-05-07 23:59:08   12.3  17.1    0       13        0  05-10 03:00   \n",
       "1522062 2024-05-07 23:59:08  269.8  14.9   -1      270        0  05-15 23:00   \n",
       "1522063 2024-05-07 23:59:08    8.0  18.7    0        6        0  05-08 12:45   \n",
       "1522064 2024-05-07 23:59:08  336.0  14.3    5      337        0  05-07 23:00   \n",
       "\n",
       "         latitude  longitude                   vesselId  \\\n",
       "1522060  52.19131   -5.82223  clh6aqawa0002gh0zypfa5dut   \n",
       "1522061  38.96142  -12.00502   61e9f3aeb937134a3c4bfe43   \n",
       "1522062  49.71372   -5.22042   61e9f43db937134a3c4c0169   \n",
       "1522063  38.27895   10.78280   61e9f469b937134a3c4c029b   \n",
       "1522064  38.98635  -75.13275   62080cff66fc0a8e43c6123a   \n",
       "\n",
       "                           portId  \n",
       "1522060  634c4de270937fc01c3a7417  \n",
       "1522061  634c4de270937fc01c3a76a1  \n",
       "1522062  634c4de270937fc01c3a787b  \n",
       "1522063  61d3781293c6feb83e5eb73b  \n",
       "1522064  61d38528b7b7526e1adf3e6f  "
      ]
     },
     "execution_count": 24,
     "metadata": {},
     "output_type": "execute_result"
    }
   ],
   "source": [
    "train = pd.read_csv('data/ais_train.csv', sep='|')\n",
    "train.sample(5)\n",
    "train['time'] = pd.to_datetime(train['time'])\n",
    "train.tail()"
   ]
  },
  {
   "cell_type": "markdown",
   "id": "02318d9a-500d-4990-a0a8-5172b99dac5a",
   "metadata": {},
   "source": [
    "We can check for missing values by using train.info()."
   ]
  },
  {
   "cell_type": "code",
   "execution_count": 25,
   "id": "8e7c88b7-15af-4114-856a-05c6e096f741",
   "metadata": {
    "tags": []
   },
   "outputs": [
    {
     "name": "stdout",
     "output_type": "stream",
     "text": [
      "<class 'pandas.core.frame.DataFrame'>\n",
      "RangeIndex: 1522065 entries, 0 to 1522064\n",
      "Data columns (total 11 columns):\n",
      " #   Column     Non-Null Count    Dtype         \n",
      "---  ------     --------------    -----         \n",
      " 0   time       1522065 non-null  datetime64[ns]\n",
      " 1   cog        1522065 non-null  float64       \n",
      " 2   sog        1522065 non-null  float64       \n",
      " 3   rot        1522065 non-null  int64         \n",
      " 4   heading    1522065 non-null  int64         \n",
      " 5   navstat    1522065 non-null  int64         \n",
      " 6   etaRaw     1522065 non-null  object        \n",
      " 7   latitude   1522065 non-null  float64       \n",
      " 8   longitude  1522065 non-null  float64       \n",
      " 9   vesselId   1522065 non-null  object        \n",
      " 10  portId     1520450 non-null  object        \n",
      "dtypes: datetime64[ns](1), float64(4), int64(3), object(3)\n",
      "memory usage: 127.7+ MB\n",
      "\n",
      " Missing values:\n",
      "time            0\n",
      "cog             0\n",
      "sog             0\n",
      "rot             0\n",
      "heading         0\n",
      "navstat         0\n",
      "etaRaw          0\n",
      "latitude        0\n",
      "longitude       0\n",
      "vesselId        0\n",
      "portId       1615\n",
      "dtype: int64\n"
     ]
    }
   ],
   "source": [
    "train.info()\n",
    "\n",
    "missing_values = train.isnull().sum()\n",
    "print(f\"\\n Missing values:\\n{missing_values}\")"
   ]
  },
  {
   "cell_type": "markdown",
   "id": "4b7ca0db-5a0d-44fa-aaa7-58592c6992ed",
   "metadata": {},
   "source": [
    "Given the 1522065 entries, it appears that the only column missing values is portId, where 1615 values seem to be missing."
   ]
  },
  {
   "cell_type": "markdown",
   "id": "21c1814c-92d4-46d9-a362-e7019a263bdb",
   "metadata": {},
   "source": [
    "#### Feature statistics"
   ]
  },
  {
   "cell_type": "markdown",
   "id": "1f253603-6738-40a6-9838-a5b7b0ddb47f",
   "metadata": {
    "tags": []
   },
   "source": [
    "We can get an overview of features using train.describe()."
   ]
  },
  {
   "cell_type": "code",
   "execution_count": 26,
   "id": "51b83ed6-4a60-42d9-be73-7862947dfaa6",
   "metadata": {
    "tags": []
   },
   "outputs": [
    {
     "data": {
      "text/html": [
       "<div>\n",
       "<style scoped>\n",
       "    .dataframe tbody tr th:only-of-type {\n",
       "        vertical-align: middle;\n",
       "    }\n",
       "\n",
       "    .dataframe tbody tr th {\n",
       "        vertical-align: top;\n",
       "    }\n",
       "\n",
       "    .dataframe thead th {\n",
       "        text-align: right;\n",
       "    }\n",
       "</style>\n",
       "<table border=\"1\" class=\"dataframe\">\n",
       "  <thead>\n",
       "    <tr style=\"text-align: right;\">\n",
       "      <th></th>\n",
       "      <th>time</th>\n",
       "      <th>cog</th>\n",
       "      <th>sog</th>\n",
       "      <th>rot</th>\n",
       "      <th>heading</th>\n",
       "      <th>navstat</th>\n",
       "      <th>latitude</th>\n",
       "      <th>longitude</th>\n",
       "    </tr>\n",
       "  </thead>\n",
       "  <tbody>\n",
       "    <tr>\n",
       "      <th>count</th>\n",
       "      <td>1522065.00000</td>\n",
       "      <td>1522065.00000</td>\n",
       "      <td>1522065.00000</td>\n",
       "      <td>1522065.00000</td>\n",
       "      <td>1522065.00000</td>\n",
       "      <td>1522065.00000</td>\n",
       "      <td>1522065.00000</td>\n",
       "      <td>1522065.00000</td>\n",
       "    </tr>\n",
       "    <tr>\n",
       "      <th>mean</th>\n",
       "      <td>.5f</td>\n",
       "      <td>178.24940</td>\n",
       "      <td>6.33170</td>\n",
       "      <td>0.50546</td>\n",
       "      <td>176.27368</td>\n",
       "      <td>2.09260</td>\n",
       "      <td>36.58497</td>\n",
       "      <td>11.53646</td>\n",
       "    </tr>\n",
       "    <tr>\n",
       "      <th>min</th>\n",
       "      <td>.5f</td>\n",
       "      <td>0.00000</td>\n",
       "      <td>0.00000</td>\n",
       "      <td>-127.00000</td>\n",
       "      <td>0.00000</td>\n",
       "      <td>0.00000</td>\n",
       "      <td>-47.53287</td>\n",
       "      <td>-167.54093</td>\n",
       "    </tr>\n",
       "    <tr>\n",
       "      <th>25%</th>\n",
       "      <td>.5f</td>\n",
       "      <td>78.20000</td>\n",
       "      <td>0.00000</td>\n",
       "      <td>0.00000</td>\n",
       "      <td>75.00000</td>\n",
       "      <td>0.00000</td>\n",
       "      <td>34.51683</td>\n",
       "      <td>-5.21281</td>\n",
       "    </tr>\n",
       "    <tr>\n",
       "      <th>50%</th>\n",
       "      <td>.5f</td>\n",
       "      <td>183.80000</td>\n",
       "      <td>0.50000</td>\n",
       "      <td>0.00000</td>\n",
       "      <td>180.00000</td>\n",
       "      <td>0.00000</td>\n",
       "      <td>42.23370</td>\n",
       "      <td>4.23435</td>\n",
       "    </tr>\n",
       "    <tr>\n",
       "      <th>75%</th>\n",
       "      <td>.5f</td>\n",
       "      <td>269.00000</td>\n",
       "      <td>14.10000</td>\n",
       "      <td>0.00000</td>\n",
       "      <td>265.00000</td>\n",
       "      <td>5.00000</td>\n",
       "      <td>51.35197</td>\n",
       "      <td>18.83715</td>\n",
       "    </tr>\n",
       "    <tr>\n",
       "      <th>max</th>\n",
       "      <td>.5f</td>\n",
       "      <td>360.00000</td>\n",
       "      <td>102.30000</td>\n",
       "      <td>128.00000</td>\n",
       "      <td>511.00000</td>\n",
       "      <td>15.00000</td>\n",
       "      <td>70.55720</td>\n",
       "      <td>178.80538</td>\n",
       "    </tr>\n",
       "    <tr>\n",
       "      <th>std</th>\n",
       "      <td>nan</td>\n",
       "      <td>107.67851</td>\n",
       "      <td>7.53936</td>\n",
       "      <td>17.60916</td>\n",
       "      <td>107.08599</td>\n",
       "      <td>2.41196</td>\n",
       "      <td>22.90488</td>\n",
       "      <td>68.71572</td>\n",
       "    </tr>\n",
       "  </tbody>\n",
       "</table>\n",
       "</div>"
      ],
      "text/plain": [
       "                time            cog            sog            rot  \\\n",
       "count  1522065.00000  1522065.00000  1522065.00000  1522065.00000   \n",
       "mean             .5f      178.24940        6.33170        0.50546   \n",
       "min              .5f        0.00000        0.00000     -127.00000   \n",
       "25%              .5f       78.20000        0.00000        0.00000   \n",
       "50%              .5f      183.80000        0.50000        0.00000   \n",
       "75%              .5f      269.00000       14.10000        0.00000   \n",
       "max              .5f      360.00000      102.30000      128.00000   \n",
       "std              nan      107.67851        7.53936       17.60916   \n",
       "\n",
       "             heading        navstat       latitude      longitude  \n",
       "count  1522065.00000  1522065.00000  1522065.00000  1522065.00000  \n",
       "mean       176.27368        2.09260       36.58497       11.53646  \n",
       "min          0.00000        0.00000      -47.53287     -167.54093  \n",
       "25%         75.00000        0.00000       34.51683       -5.21281  \n",
       "50%        180.00000        0.00000       42.23370        4.23435  \n",
       "75%        265.00000        5.00000       51.35197       18.83715  \n",
       "max        511.00000       15.00000       70.55720      178.80538  \n",
       "std        107.08599        2.41196       22.90488       68.71572  "
      ]
     },
     "execution_count": 26,
     "metadata": {},
     "output_type": "execute_result"
    }
   ],
   "source": [
    "train.describe().apply(lambda s: s.apply('{0:.5f}'.format))"
   ]
  },
  {
   "cell_type": "markdown",
   "id": "9209ef4f-5422-406a-b8b5-46ba86a784b4",
   "metadata": {},
   "source": [
    "We can use this to determine whether or not any feature has invalid values.\n",
    "For example, we can see that sog has max value 102.3, which according to the documentation means it is not available.\n",
    "This goes for heading as well, where the max value is 511, meaning it is not available according to the documentation.\n",
    "Further, rot values at -127 or at +127 indicate some uncertainty in the data, as they indicate \"no TI available\" (as per the documentation). These values only indicate that there is left/right steering, but does not specify how much.\n",
    "\n",
    "We can also presume from the values shown in navstat that its values are categorical (as it jumps up to 5 and 15)."
   ]
  },
  {
   "cell_type": "markdown",
   "id": "5056679b-be3e-4427-9ac5-acea2b319d7b",
   "metadata": {},
   "source": [
    "#### Histograms"
   ]
  },
  {
   "cell_type": "markdown",
   "id": "088c9c89-2cf1-4a6c-b480-2f576e575506",
   "metadata": {
    "tags": []
   },
   "source": [
    "In order to gain further insight into our features, we can plot histograms."
   ]
  },
  {
   "cell_type": "code",
   "execution_count": 27,
   "id": "0451d3b5-e771-456f-a044-06e40d0be341",
   "metadata": {
    "tags": []
   },
   "outputs": [
    {
     "data": {
      "image/png": "[encoded data removed]",
      "text/plain": [
       "<Figure size 640x480 with 1 Axes>"
      ]
     },
     "metadata": {},
     "output_type": "display_data"
    },
    {
     "data": {
      "image/png": "[encoded data removed]",
      "text/plain": [
       "<Figure size 640x480 with 1 Axes>"
      ]
     },
     "metadata": {},
     "output_type": "display_data"
    },
    {
     "data": {
      "image/png": "[encoded data removed]",
      "text/plain": [
       "<Figure size 640x480 with 1 Axes>"
      ]
     },
     "metadata": {},
     "output_type": "display_data"
    },
    {
     "data": {
      "image/png": "[encoded data removed]",
      "text/plain": [
       "<Figure size 640x480 with 1 Axes>"
      ]
     },
     "metadata": {},
     "output_type": "display_data"
    },
    {
     "data": {
      "image/png": "[encoded data removed]",
      "text/plain": [
       "<Figure size 640x480 with 1 Axes>"
      ]
     },
     "metadata": {},
     "output_type": "display_data"
    },
    {
     "data": {
      "image/png": "[encoded data removed]",
      "text/plain": [
       "<Figure size 640x480 with 1 Axes>"
      ]
     },
     "metadata": {},
     "output_type": "display_data"
    },
    {
     "data": {
      "image/png": "[encoded data removed]",
      "text/plain": [
       "<Figure size 640x480 with 1 Axes>"
      ]
     },
     "metadata": {},
     "output_type": "display_data"
    }
   ],
   "source": [
    "# Visualize distributions\n",
    "for col in train.select_dtypes(include=np.number).columns:\n",
    "    plt.title(f'Distribution of {col}')\n",
    "    sns.histplot(train[col], kde=True)\n",
    "    plt.show()\n"
   ]
  },
  {
   "cell_type": "markdown",
   "id": "0a3b5f47-e00e-4a24-9df4-723846818e8c",
   "metadata": {},
   "source": [
    "These distributions show us that heading has a significant amount of entries that has the value 511, which previously mentioned indicates that the data is not available.\n",
    "We also see that navstat oftenmost has the value 0, followed by 5 and 1. According to the documentation, these values correspond with \"Under way using engine\", \"Moored\", and \"\tAt anchor\", respectively."
   ]
  },
  {
   "cell_type": "markdown",
   "id": "6365eecb-374f-426b-af7e-e6671d8526de",
   "metadata": {},
   "source": [
    "#### Time feature distribution"
   ]
  },
  {
   "cell_type": "markdown",
   "id": "57af0a0e-55ea-417b-bcb5-3d8173d955ff",
   "metadata": {},
   "source": [
    "We also check the distribution of the time feature."
   ]
  },
  {
   "cell_type": "code",
   "execution_count": 28,
   "id": "6cdb1f13-6dc2-4213-be11-5c8082fe0a93",
   "metadata": {
    "tags": []
   },
   "outputs": [
    {
     "data": {
      "image/png": "[encoded data removed]",
      "text/plain": [
       "<Figure size 1000x600 with 1 Axes>"
      ]
     },
     "metadata": {},
     "output_type": "display_data"
    },
    {
     "data": {
      "image/png": "[encoded data removed]",
      "text/plain": [
       "<Figure size 1000x600 with 1 Axes>"
      ]
     },
     "metadata": {},
     "output_type": "display_data"
    }
   ],
   "source": [
    "# Convert 'time' column to datetime\n",
    "train['time'] = pd.to_datetime(train['time'])\n",
    "\n",
    "# Extracting year, month, day, hour\n",
    "train['year'] = train['time'].dt.year\n",
    "train['month'] = train['time'].dt.month\n",
    "train['day'] = train['time'].dt.day\n",
    "train['hour'] = train['time'].dt.hour\n",
    "\n",
    "# Hourly data distribution\n",
    "plt.figure(figsize=(10, 6))\n",
    "train['hour'].value_counts().sort_index().plot(kind='bar')\n",
    "plt.title('Vessel Data Distribution by Hour')\n",
    "plt.xlabel('Hour of the Day')\n",
    "plt.ylabel('Frequency')\n",
    "plt.show()\n",
    "\n",
    "# Monthly data distribution\n",
    "plt.figure(figsize=(10, 6))\n",
    "train['month'].value_counts().sort_index().plot(kind='bar')\n",
    "plt.title('Vessel Data Distribution by Month')\n",
    "plt.xlabel('Month')\n",
    "plt.ylabel('Frequency')\n",
    "plt.show()"
   ]
  },
  {
   "cell_type": "markdown",
   "id": "47bec213-3f1a-48e3-bf22-400a5c1b62c6",
   "metadata": {},
   "source": [
    "As can be seen above, the plots show that while the data is distributed mostly evenly across hours, there is a huge discrepancy when it comes to distribution by months.\n",
    "Month 5 has significantly less data than month 1 through 4. This can impact the predictions significantly."
   ]
  },
  {
   "cell_type": "markdown",
   "id": "908d0b8d-e8a5-434c-8058-3e6762ba9f6d",
   "metadata": {},
   "source": [
    "### ports features"
   ]
  },
  {
   "cell_type": "markdown",
   "id": "2b3fda98-657e-4c43-ba42-91e6e2bc057b",
   "metadata": {},
   "source": [
    "We again print a sample to get an initial impression."
   ]
  },
  {
   "cell_type": "code",
   "execution_count": 29,
   "id": "a1ff8fe5-e42c-4514-a916-c58def5b5304",
   "metadata": {
    "tags": []
   },
   "outputs": [
    {
     "data": {
      "text/html": [
       "<div>\n",
       "<style scoped>\n",
       "    .dataframe tbody tr th:only-of-type {\n",
       "        vertical-align: middle;\n",
       "    }\n",
       "\n",
       "    .dataframe tbody tr th {\n",
       "        vertical-align: top;\n",
       "    }\n",
       "\n",
       "    .dataframe thead th {\n",
       "        text-align: right;\n",
       "    }\n",
       "</style>\n",
       "<table border=\"1\" class=\"dataframe\">\n",
       "  <thead>\n",
       "    <tr style=\"text-align: right;\">\n",
       "      <th></th>\n",
       "      <th>portId</th>\n",
       "      <th>name</th>\n",
       "      <th>portLocation</th>\n",
       "      <th>longitude</th>\n",
       "      <th>latitude</th>\n",
       "      <th>UN_LOCODE</th>\n",
       "      <th>countryName</th>\n",
       "      <th>ISO</th>\n",
       "    </tr>\n",
       "  </thead>\n",
       "  <tbody>\n",
       "    <tr>\n",
       "      <th>1324</th>\n",
       "      <td>6367c622aa0cd188707a1eae</td>\n",
       "      <td>Hamad</td>\n",
       "      <td>Hamad</td>\n",
       "      <td>25.029460</td>\n",
       "      <td>51.624500</td>\n",
       "      <td>QAHMD</td>\n",
       "      <td>Qatar</td>\n",
       "      <td>QA</td>\n",
       "    </tr>\n",
       "    <tr>\n",
       "      <th>1325</th>\n",
       "      <td>6367cb14aa0cd188707a1eaf</td>\n",
       "      <td>Al Hidd</td>\n",
       "      <td>Al Hidd</td>\n",
       "      <td>50.667890</td>\n",
       "      <td>26.201200</td>\n",
       "      <td>BHAHD</td>\n",
       "      <td>Bahrain</td>\n",
       "      <td>BH</td>\n",
       "    </tr>\n",
       "    <tr>\n",
       "      <th>1326</th>\n",
       "      <td>6367d9afaa0cd188707a1eb3</td>\n",
       "      <td>Aquaba</td>\n",
       "      <td>Aquaba</td>\n",
       "      <td>34.992790</td>\n",
       "      <td>29.519880</td>\n",
       "      <td>JOAQJ</td>\n",
       "      <td>Jordan</td>\n",
       "      <td>JO</td>\n",
       "    </tr>\n",
       "    <tr>\n",
       "      <th>1327</th>\n",
       "      <td>663cb287244f580d97afce53</td>\n",
       "      <td>Port of Portbury</td>\n",
       "      <td>Portbury</td>\n",
       "      <td>-2.648735</td>\n",
       "      <td>51.471346</td>\n",
       "      <td>GBPRU</td>\n",
       "      <td>United Kingdom</td>\n",
       "      <td>GB</td>\n",
       "    </tr>\n",
       "    <tr>\n",
       "      <th>1328</th>\n",
       "      <td>663cb48be894e2f07d1c69b2</td>\n",
       "      <td>Bahrain Port</td>\n",
       "      <td>Bahrain</td>\n",
       "      <td>50.616667</td>\n",
       "      <td>26.205546</td>\n",
       "      <td>BHBAH</td>\n",
       "      <td>Bahrain</td>\n",
       "      <td>BH</td>\n",
       "    </tr>\n",
       "  </tbody>\n",
       "</table>\n",
       "</div>"
      ],
      "text/plain": [
       "                        portId              name portLocation  longitude  \\\n",
       "1324  6367c622aa0cd188707a1eae             Hamad        Hamad  25.029460   \n",
       "1325  6367cb14aa0cd188707a1eaf           Al Hidd      Al Hidd  50.667890   \n",
       "1326  6367d9afaa0cd188707a1eb3            Aquaba       Aquaba  34.992790   \n",
       "1327  663cb287244f580d97afce53  Port of Portbury     Portbury  -2.648735   \n",
       "1328  663cb48be894e2f07d1c69b2      Bahrain Port      Bahrain  50.616667   \n",
       "\n",
       "       latitude UN_LOCODE     countryName ISO  \n",
       "1324  51.624500     QAHMD           Qatar  QA  \n",
       "1325  26.201200     BHAHD         Bahrain  BH  \n",
       "1326  29.519880     JOAQJ          Jordan  JO  \n",
       "1327  51.471346     GBPRU  United Kingdom  GB  \n",
       "1328  26.205546     BHBAH         Bahrain  BH  "
      ]
     },
     "execution_count": 29,
     "metadata": {},
     "output_type": "execute_result"
    }
   ],
   "source": [
    "# Ports.csv load\n",
    "ports = pd.read_csv('data/ports.csv', sep='|')\n",
    "\n",
    "ports.sample(5)\n",
    "ports.tail()"
   ]
  },
  {
   "cell_type": "markdown",
   "id": "5a09a994-4580-4b8f-86f2-3eb824dc0dc1",
   "metadata": {},
   "source": [
    "Similarly to previous methods used, we can check the ports dataset for missing values as well."
   ]
  },
  {
   "cell_type": "code",
   "execution_count": 30,
   "id": "72a26f23-4aee-4e71-bae9-e21986715df2",
   "metadata": {
    "tags": []
   },
   "outputs": [
    {
     "name": "stdout",
     "output_type": "stream",
     "text": [
      "<class 'pandas.core.frame.DataFrame'>\n",
      "RangeIndex: 1329 entries, 0 to 1328\n",
      "Data columns (total 8 columns):\n",
      " #   Column        Non-Null Count  Dtype  \n",
      "---  ------        --------------  -----  \n",
      " 0   portId        1329 non-null   object \n",
      " 1   name          1329 non-null   object \n",
      " 2   portLocation  1329 non-null   object \n",
      " 3   longitude     1329 non-null   float64\n",
      " 4   latitude      1329 non-null   float64\n",
      " 5   UN_LOCODE     1329 non-null   object \n",
      " 6   countryName   1329 non-null   object \n",
      " 7   ISO           1329 non-null   object \n",
      "dtypes: float64(2), object(6)\n",
      "memory usage: 83.2+ KB\n"
     ]
    }
   ],
   "source": [
    "ports.info()"
   ]
  },
  {
   "cell_type": "markdown",
   "id": "452485ae-9ed4-4b7e-8ca0-c91e56f4e802",
   "metadata": {},
   "source": [
    "We see that there are no missing values in the ports dataset."
   ]
  },
  {
   "cell_type": "markdown",
   "id": "6a0810c4-36ff-4c70-bae7-63a031f18009",
   "metadata": {},
   "source": [
    "#### countryName feature"
   ]
  },
  {
   "cell_type": "markdown",
   "id": "998e1f85-361c-42c5-bb34-3dcd53a5a8b0",
   "metadata": {},
   "source": [
    "We decided to look closer at the countryName feature, in order to see if there were any trends there."
   ]
  },
  {
   "cell_type": "code",
   "execution_count": 31,
   "id": "dc26844e-4506-4d19-9450-a13a6b27eb3a",
   "metadata": {
    "tags": []
   },
   "outputs": [
    {
     "data": {
      "image/png": "[encoded data removed]",
      "text/plain": [
       "<Figure size 640x480 with 1 Axes>"
      ]
     },
     "metadata": {},
     "output_type": "display_data"
    }
   ],
   "source": [
    "# Filter out countries with the most ports\n",
    "country_counts = ports['countryName'].value_counts()\n",
    "filtered_ports = ports[ports['countryName'].isin(country_counts[country_counts > 10].index)]\n",
    "filtered_ports['countryName'].value_counts().plot(kind='bar')\n",
    "plt.show()"
   ]
  },
  {
   "cell_type": "markdown",
   "id": "c17f9d12-4bbc-4927-86e8-533d3e44a9b7",
   "metadata": {},
   "source": [
    "From the graph, we can see that Norway appears the most, and way more than many of the other countries. Other countries that appeared a lot in the ports dataset were Greece, United States, China, United Kingdom, and Japan.\n",
    "\n",
    "This is useful as it could indicate a trend in the data.\n",
    "\n",
    "We plotted the latitude and longitude for the ports, to get a better picture of their locations."
   ]
  },
  {
   "cell_type": "code",
   "execution_count": 32,
   "id": "f83cd9d7-727d-422e-940a-309d33a4801f",
   "metadata": {
    "tags": []
   },
   "outputs": [
    {
     "data": {
      "image/png": "[encoded data removed]",
      "text/plain": [
       "<Figure size 640x480 with 1 Axes>"
      ]
     },
     "metadata": {},
     "output_type": "display_data"
    }
   ],
   "source": [
    "plt.scatter(ports['longitude'], ports['latitude'])\n",
    "plt.title('Geographical Distribution of Ports')\n",
    "plt.xlabel('Longitude')\n",
    "plt.ylabel('Latitude')\n",
    "plt.show()"
   ]
  },
  {
   "cell_type": "markdown",
   "id": "fcb586ad-3b02-40ef-9419-d4e10574e1f8",
   "metadata": {},
   "source": [
    "The plot shows that there are a significant amount of ports located in Norway (and Europe) as indicated by the previous plot."
   ]
  },
  {
   "cell_type": "markdown",
   "id": "97f144ad-5a56-4f0d-9aa1-64ccf4407bcd",
   "metadata": {},
   "source": [
    "### vessels features"
   ]
  },
  {
   "cell_type": "markdown",
   "id": "e8a4d70a-d0c5-4acc-9d69-475ac4d4cd0d",
   "metadata": {},
   "source": [
    "We print a sample to get an impression."
   ]
  },
  {
   "cell_type": "code",
   "execution_count": 33,
   "id": "ca2952a9-1c92-4e16-ba1e-fb67b8d48f02",
   "metadata": {
    "tags": []
   },
   "outputs": [
    {
     "data": {
      "text/html": [
       "<div>\n",
       "<style scoped>\n",
       "    .dataframe tbody tr th:only-of-type {\n",
       "        vertical-align: middle;\n",
       "    }\n",
       "\n",
       "    .dataframe tbody tr th {\n",
       "        vertical-align: top;\n",
       "    }\n",
       "\n",
       "    .dataframe thead th {\n",
       "        text-align: right;\n",
       "    }\n",
       "</style>\n",
       "<table border=\"1\" class=\"dataframe\">\n",
       "  <thead>\n",
       "    <tr style=\"text-align: right;\">\n",
       "      <th></th>\n",
       "      <th>shippingLineId</th>\n",
       "      <th>vesselId</th>\n",
       "      <th>CEU</th>\n",
       "      <th>DWT</th>\n",
       "      <th>GT</th>\n",
       "      <th>NT</th>\n",
       "      <th>vesselType</th>\n",
       "      <th>breadth</th>\n",
       "      <th>depth</th>\n",
       "      <th>draft</th>\n",
       "      <th>enginePower</th>\n",
       "      <th>freshWater</th>\n",
       "      <th>fuel</th>\n",
       "      <th>homePort</th>\n",
       "      <th>length</th>\n",
       "      <th>maxHeight</th>\n",
       "      <th>maxSpeed</th>\n",
       "      <th>maxWidth</th>\n",
       "      <th>rampCapacity</th>\n",
       "      <th>yearBuilt</th>\n",
       "    </tr>\n",
       "  </thead>\n",
       "  <tbody>\n",
       "    <tr>\n",
       "      <th>706</th>\n",
       "      <td>61a8e673f9cba188601e84ae</td>\n",
       "      <td>clh6aqawa0003gh0zu0aznvt2</td>\n",
       "      <td>6000</td>\n",
       "      <td>18770.0</td>\n",
       "      <td>59516</td>\n",
       "      <td>NaN</td>\n",
       "      <td>83.0</td>\n",
       "      <td>32.0</td>\n",
       "      <td>NaN</td>\n",
       "      <td>10.00</td>\n",
       "      <td>NaN</td>\n",
       "      <td>NaN</td>\n",
       "      <td>NaN</td>\n",
       "      <td>NaN</td>\n",
       "      <td>200.0</td>\n",
       "      <td>NaN</td>\n",
       "      <td>NaN</td>\n",
       "      <td>NaN</td>\n",
       "      <td>NaN</td>\n",
       "      <td>2014</td>\n",
       "    </tr>\n",
       "    <tr>\n",
       "      <th>707</th>\n",
       "      <td>61a8e673f9cba188601e84b3</td>\n",
       "      <td>clh6aqawa0004gh0z12aogec9</td>\n",
       "      <td>250</td>\n",
       "      <td>6440.0</td>\n",
       "      <td>26478</td>\n",
       "      <td>NaN</td>\n",
       "      <td>83.0</td>\n",
       "      <td>26.0</td>\n",
       "      <td>NaN</td>\n",
       "      <td>5.75</td>\n",
       "      <td>NaN</td>\n",
       "      <td>NaN</td>\n",
       "      <td>NaN</td>\n",
       "      <td>NaN</td>\n",
       "      <td>177.0</td>\n",
       "      <td>NaN</td>\n",
       "      <td>NaN</td>\n",
       "      <td>NaN</td>\n",
       "      <td>NaN</td>\n",
       "      <td>1989</td>\n",
       "    </tr>\n",
       "    <tr>\n",
       "      <th>708</th>\n",
       "      <td>61a8e673f9cba188601e84ae</td>\n",
       "      <td>clh6aqawa0005gh0z64y4xyip</td>\n",
       "      <td>6015</td>\n",
       "      <td>17228.0</td>\n",
       "      <td>55493</td>\n",
       "      <td>NaN</td>\n",
       "      <td>83.0</td>\n",
       "      <td>32.0</td>\n",
       "      <td>NaN</td>\n",
       "      <td>9.62</td>\n",
       "      <td>NaN</td>\n",
       "      <td>NaN</td>\n",
       "      <td>NaN</td>\n",
       "      <td>NaN</td>\n",
       "      <td>200.0</td>\n",
       "      <td>NaN</td>\n",
       "      <td>NaN</td>\n",
       "      <td>NaN</td>\n",
       "      <td>NaN</td>\n",
       "      <td>2002</td>\n",
       "    </tr>\n",
       "    <tr>\n",
       "      <th>709</th>\n",
       "      <td>61a8e673f9cba188601e84b3</td>\n",
       "      <td>clh6aqawa0006gh0zje911dl3</td>\n",
       "      <td>150</td>\n",
       "      <td>13800.0</td>\n",
       "      <td>23128</td>\n",
       "      <td>NaN</td>\n",
       "      <td>83.0</td>\n",
       "      <td>21.0</td>\n",
       "      <td>NaN</td>\n",
       "      <td>7.82</td>\n",
       "      <td>NaN</td>\n",
       "      <td>NaN</td>\n",
       "      <td>NaN</td>\n",
       "      <td>NaN</td>\n",
       "      <td>191.0</td>\n",
       "      <td>NaN</td>\n",
       "      <td>NaN</td>\n",
       "      <td>NaN</td>\n",
       "      <td>NaN</td>\n",
       "      <td>2007</td>\n",
       "    </tr>\n",
       "    <tr>\n",
       "      <th>710</th>\n",
       "      <td>61a8e673f9cba188601e84b3</td>\n",
       "      <td>clh6aqawa0007gh0z9h6zi9bo</td>\n",
       "      <td>200</td>\n",
       "      <td>12784.0</td>\n",
       "      <td>24133</td>\n",
       "      <td>NaN</td>\n",
       "      <td>83.0</td>\n",
       "      <td>26.0</td>\n",
       "      <td>NaN</td>\n",
       "      <td>7.58</td>\n",
       "      <td>NaN</td>\n",
       "      <td>NaN</td>\n",
       "      <td>NaN</td>\n",
       "      <td>NaN</td>\n",
       "      <td>191.0</td>\n",
       "      <td>NaN</td>\n",
       "      <td>NaN</td>\n",
       "      <td>NaN</td>\n",
       "      <td>NaN</td>\n",
       "      <td>2017</td>\n",
       "    </tr>\n",
       "  </tbody>\n",
       "</table>\n",
       "</div>"
      ],
      "text/plain": [
       "               shippingLineId                   vesselId   CEU      DWT  \\\n",
       "706  61a8e673f9cba188601e84ae  clh6aqawa0003gh0zu0aznvt2  6000  18770.0   \n",
       "707  61a8e673f9cba188601e84b3  clh6aqawa0004gh0z12aogec9   250   6440.0   \n",
       "708  61a8e673f9cba188601e84ae  clh6aqawa0005gh0z64y4xyip  6015  17228.0   \n",
       "709  61a8e673f9cba188601e84b3  clh6aqawa0006gh0zje911dl3   150  13800.0   \n",
       "710  61a8e673f9cba188601e84b3  clh6aqawa0007gh0z9h6zi9bo   200  12784.0   \n",
       "\n",
       "        GT  NT  vesselType  breadth  depth  draft  enginePower  freshWater  \\\n",
       "706  59516 NaN        83.0     32.0    NaN  10.00          NaN         NaN   \n",
       "707  26478 NaN        83.0     26.0    NaN   5.75          NaN         NaN   \n",
       "708  55493 NaN        83.0     32.0    NaN   9.62          NaN         NaN   \n",
       "709  23128 NaN        83.0     21.0    NaN   7.82          NaN         NaN   \n",
       "710  24133 NaN        83.0     26.0    NaN   7.58          NaN         NaN   \n",
       "\n",
       "     fuel homePort  length  maxHeight  maxSpeed  maxWidth  rampCapacity  \\\n",
       "706   NaN      NaN   200.0        NaN       NaN       NaN           NaN   \n",
       "707   NaN      NaN   177.0        NaN       NaN       NaN           NaN   \n",
       "708   NaN      NaN   200.0        NaN       NaN       NaN           NaN   \n",
       "709   NaN      NaN   191.0        NaN       NaN       NaN           NaN   \n",
       "710   NaN      NaN   191.0        NaN       NaN       NaN           NaN   \n",
       "\n",
       "     yearBuilt  \n",
       "706       2014  \n",
       "707       1989  \n",
       "708       2002  \n",
       "709       2007  \n",
       "710       2017  "
      ]
     },
     "execution_count": 33,
     "metadata": {},
     "output_type": "execute_result"
    }
   ],
   "source": [
    "# vessels.csv load\n",
    "vessels = pd.read_csv('data/vessels.csv', sep='|')\n",
    "\n",
    "vessels.sample(5)\n",
    "vessels.tail()"
   ]
  },
  {
   "cell_type": "markdown",
   "id": "4e129733-feaa-40fe-8486-2ef1953b16ab",
   "metadata": {
    "tags": []
   },
   "source": [
    "Continuing in a similar fashion, we check precisely how many NaN values are in the vessels.csv dataset."
   ]
  },
  {
   "cell_type": "code",
   "execution_count": 34,
   "id": "93101723-48e7-47c3-bb59-8df8f4cc46bb",
   "metadata": {
    "tags": []
   },
   "outputs": [
    {
     "name": "stdout",
     "output_type": "stream",
     "text": [
      "<class 'pandas.core.frame.DataFrame'>\n",
      "RangeIndex: 711 entries, 0 to 710\n",
      "Data columns (total 20 columns):\n",
      " #   Column          Non-Null Count  Dtype  \n",
      "---  ------          --------------  -----  \n",
      " 0   shippingLineId  711 non-null    object \n",
      " 1   vesselId        711 non-null    object \n",
      " 2   CEU             711 non-null    int64  \n",
      " 3   DWT             703 non-null    float64\n",
      " 4   GT              711 non-null    int64  \n",
      " 5   NT              187 non-null    float64\n",
      " 6   vesselType      699 non-null    float64\n",
      " 7   breadth         703 non-null    float64\n",
      " 8   depth           242 non-null    float64\n",
      " 9   draft           10 non-null     float64\n",
      " 10  enginePower     691 non-null    float64\n",
      " 11  freshWater      221 non-null    float64\n",
      " 12  fuel            221 non-null    float64\n",
      " 13  homePort        573 non-null    object \n",
      " 14  length          711 non-null    float64\n",
      " 15  maxHeight       35 non-null     float64\n",
      " 16  maxSpeed        213 non-null    float64\n",
      " 17  maxWidth        35 non-null     float64\n",
      " 18  rampCapacity    34 non-null     float64\n",
      " 19  yearBuilt       711 non-null    int64  \n",
      "dtypes: float64(14), int64(3), object(3)\n",
      "memory usage: 111.2+ KB\n",
      "\n",
      " Missing values:\n",
      "shippingLineId      0\n",
      "vesselId            0\n",
      "CEU                 0\n",
      "DWT                 8\n",
      "GT                  0\n",
      "NT                524\n",
      "vesselType         12\n",
      "breadth             8\n",
      "depth             469\n",
      "draft             701\n",
      "enginePower        20\n",
      "freshWater        490\n",
      "fuel              490\n",
      "homePort          138\n",
      "length              0\n",
      "maxHeight         676\n",
      "maxSpeed          498\n",
      "maxWidth          676\n",
      "rampCapacity      677\n",
      "yearBuilt           0\n",
      "dtype: int64\n"
     ]
    }
   ],
   "source": [
    "vessels.info()\n",
    "\n",
    "missing_values = vessels.isnull().sum()\n",
    "print(f\"\\n Missing values:\\n{missing_values}\")"
   ]
  },
  {
   "cell_type": "markdown",
   "id": "9288c01b-b9fd-44d2-b492-fe1af768816b",
   "metadata": {},
   "source": [
    "We see here that vessels has quite a few NaN values. This can be explained by the fact that not all vessels have registered these metrics. The following features have no NaN values: shippingLineId, vesselId, CEU, GT, length, yearBuilt. This makes sense as these features are either essential, or they are easily registered."
   ]
  },
  {
   "cell_type": "markdown",
   "id": "681a9517-38e0-41fc-9879-57cb6c625a06",
   "metadata": {},
   "source": [
    "## Explore pairs/groups of features"
   ]
  },
  {
   "cell_type": "markdown",
   "id": "a36d8b10-35de-459f-bf71-ab7f7c694ae2",
   "metadata": {},
   "source": [
    "### Feature correlation matrix"
   ]
  },
  {
   "cell_type": "markdown",
   "id": "d965f797-5579-4655-ad8d-8f5d8479dd97",
   "metadata": {},
   "source": [
    "In order to explore correlation between features, we decided to use a feature correlation matrix."
   ]
  },
  {
   "cell_type": "code",
   "execution_count": 35,
   "id": "a9c72bf3-2ec4-42ad-88f6-f574b037d9f6",
   "metadata": {
    "tags": []
   },
   "outputs": [
    {
     "data": {
      "text/plain": [
       "<Axes: >"
      ]
     },
     "execution_count": 35,
     "metadata": {},
     "output_type": "execute_result"
    },
    {
     "data": {
      "image/png": "[encoded data removed]",
      "text/plain": [
       "<Figure size 640x480 with 2 Axes>"
      ]
     },
     "metadata": {},
     "output_type": "display_data"
    }
   ],
   "source": [
    "# Correlation heatmap\n",
    "numerical_cols = ['cog', 'sog', 'rot', 'heading', 'latitude', 'longitude']\n",
    "\n",
    "# Compute correlation matrix\n",
    "corr = train[numerical_cols].corr()\n",
    "sns.heatmap(corr, cmap='coolwarm', annot=True)"
   ]
  },
  {
   "cell_type": "markdown",
   "id": "65304a59-71bc-4745-8710-26c26ae36a8e",
   "metadata": {
    "tags": []
   },
   "source": [
    "The feature correlation matrix suggests a positive correlation between \"COG\" and \"heading\", meaning that if one of them increases, the other also increases. This correlation makes sense, as the vessel's \"heading\" indicates the direction its bow is pointing, while its \"course over ground\" shows the trajectory it is following. These features correlating makes a lot of sense as they both related to direction and trajectory, although COG takes into account currents and winds, showing the vessel's true trajectory.\n",
    "\n",
    "Furthermore, the matrix shows a negative correlation between latitude and longitude. This means that as either latitude/longitude increases, the other is likely to decrease. Such a correlation between longitude and latitude makes sense, as they are coordinates that indicate a position on the Earth's surface. "
   ]
  },
  {
   "cell_type": "markdown",
   "id": "683cb3c2-a767-40c2-b22b-6f2597f38e0f",
   "metadata": {},
   "source": [
    "## Clean up features"
   ]
  },
  {
   "cell_type": "markdown",
   "id": "643ce189-a80e-4e36-91ad-960d8041a1d6",
   "metadata": {},
   "source": [
    "### Boxplot"
   ]
  },
  {
   "cell_type": "markdown",
   "id": "835fa26a-0fb6-4ff2-91a6-2ef039a6d05d",
   "metadata": {},
   "source": [
    "One way we can help clean up the features, is by creating boxplots in order to identify outliers in the data."
   ]
  },
  {
   "cell_type": "code",
   "execution_count": 36,
   "id": "ae19348b-e162-449e-a3a9-6389cefa2372",
   "metadata": {
    "tags": []
   },
   "outputs": [
    {
     "data": {
      "image/png": "[encoded data removed]",
      "text/plain": [
       "<Figure size 800x400 with 1 Axes>"
      ]
     },
     "metadata": {},
     "output_type": "display_data"
    },
    {
     "data": {
      "image/png": "[encoded data removed]",
      "text/plain": [
       "<Figure size 800x400 with 1 Axes>"
      ]
     },
     "metadata": {},
     "output_type": "display_data"
    },
    {
     "data": {
      "image/png": "[encoded data removed]",
      "text/plain": [
       "<Figure size 800x400 with 1 Axes>"
      ]
     },
     "metadata": {},
     "output_type": "display_data"
    },
    {
     "data": {
      "image/png": "[encoded data removed]",
      "text/plain": [
       "<Figure size 800x400 with 1 Axes>"
      ]
     },
     "metadata": {},
     "output_type": "display_data"
    },
    {
     "data": {
      "image/png": "[encoded data removed]",
      "text/plain": [
       "<Figure size 800x400 with 1 Axes>"
      ]
     },
     "metadata": {},
     "output_type": "display_data"
    },
    {
     "data": {
      "image/png": "[encoded data removed]",
      "text/plain": [
       "<Figure size 800x400 with 1 Axes>"
      ]
     },
     "metadata": {},
     "output_type": "display_data"
    }
   ],
   "source": [
    "# List of numerical columns\n",
    "numerical_cols = ['cog', 'sog', 'rot', 'heading', 'latitude', 'longitude']\n",
    "\n",
    "# Plot a boxplot for each numerical column\n",
    "for col in numerical_cols:\n",
    "    plt.figure(figsize=(8, 4))\n",
    "    sns.boxplot(x=train[col])\n",
    "    plt.title(f'Boxplot of {col}')\n",
    "    plt.show()\n"
   ]
  },
  {
   "cell_type": "markdown",
   "id": "efbe54f2-9f72-40aa-9289-c178395f1a72",
   "metadata": {},
   "source": [
    "As can be seen from the boxplots above, SOG, ROT, latitude and longitude have significant outliers.\n",
    "\n",
    "SOG (speed over ground) has most speeds around 0 to about 15 knots, but there are multiple outliers that extend up to over 100 knots. As pointed out earlier, 102.3 signifies that the data is not available, and as such this may make up the fastest outliers. Overall, the boxplot suggests that most people travel at moderate speeds, with some outliers in the data going above 40 knots.\n",
    "\n",
    "ROT (rate of turn) has a median around 0, with the data being fairly symmetrical on either side. Both sides have outliers. This suggests that vessels normally stay on a straight course, with occasional turns in either direction.\n",
    "\n",
    "Latitude shows the majority of data lies between 35 and 50, but sometimes with vessels moving to more extreme latitudes.\n",
    "\n",
    "Longitude has a box that is quite small and closer to 0, meaning vessels are often located around this longitude. There are outliers on both sides, as vessels likely operate at many different longitudes."
   ]
  },
  {
   "cell_type": "markdown",
   "id": "10562791-de87-434d-9fd7-64351789e6bd",
   "metadata": {},
   "source": [
    "### Checking for duplicate rows/columns"
   ]
  },
  {
   "cell_type": "markdown",
   "id": "5689eef1-26f0-4cd3-883e-e1942c718cc7",
   "metadata": {},
   "source": [
    "Another way to check if the data is clean, is by inspecting the rows to check for duplicates. As evidenced below, there were no duplicate rows found in the datasets.\n",
    "\n",
    "As for columns, there do not seem to be any duplicate columns in ais_train, but the code to run this check was not very time efficient.\n",
    "Ports had some indication of duplicate columns (highly correlated features), given the fact that port_location will always map to UN_LOCODE. Additionally, countryName will always correspond with ISO. Vessels had no duplicate columns."
   ]
  },
  {
   "cell_type": "code",
   "execution_count": 37,
   "id": "a7c4aaec-b46f-49d6-8ab8-3ae826e5ecf0",
   "metadata": {
    "tags": []
   },
   "outputs": [
    {
     "name": "stdout",
     "output_type": "stream",
     "text": [
      "Number of duplicated rows in ais_train: 0\n",
      "Number of duplicated rows in ports: 0\n",
      "Number of duplicated rows in vessels: 0\n",
      "Directly duplicated features in ports: []\n",
      "Directly duplicated features in vessels: []\n"
     ]
    },
    {
     "data": {
      "text/html": [
       "<div>\n",
       "<style scoped>\n",
       "    .dataframe tbody tr th:only-of-type {\n",
       "        vertical-align: middle;\n",
       "    }\n",
       "\n",
       "    .dataframe tbody tr th {\n",
       "        vertical-align: top;\n",
       "    }\n",
       "\n",
       "    .dataframe thead th {\n",
       "        text-align: right;\n",
       "    }\n",
       "</style>\n",
       "<table border=\"1\" class=\"dataframe\">\n",
       "  <thead>\n",
       "    <tr style=\"text-align: right;\">\n",
       "      <th></th>\n",
       "      <th>0</th>\n",
       "      <th>1</th>\n",
       "      <th>2</th>\n",
       "      <th>3</th>\n",
       "      <th>4</th>\n",
       "      <th>5</th>\n",
       "      <th>6</th>\n",
       "      <th>7</th>\n",
       "      <th>8</th>\n",
       "      <th>9</th>\n",
       "      <th>...</th>\n",
       "      <th>701</th>\n",
       "      <th>702</th>\n",
       "      <th>703</th>\n",
       "      <th>704</th>\n",
       "      <th>705</th>\n",
       "      <th>706</th>\n",
       "      <th>707</th>\n",
       "      <th>708</th>\n",
       "      <th>709</th>\n",
       "      <th>710</th>\n",
       "    </tr>\n",
       "  </thead>\n",
       "  <tbody>\n",
       "    <tr>\n",
       "      <th>shippingLineId</th>\n",
       "      <td>61a8e672f9cba188601e84ab</td>\n",
       "      <td>61ec94f1a8cafc0e93f0e92a</td>\n",
       "      <td>61e213d5d612676a0f0fb755</td>\n",
       "      <td>61be24574ea00ae59d0fe388</td>\n",
       "      <td>61a8e673f9cba188601e84ae</td>\n",
       "      <td>61a8e673f9cba188601e84ae</td>\n",
       "      <td>61a8e673f9cba188601e84ae</td>\n",
       "      <td>61a8e673f9cba188601e84ae</td>\n",
       "      <td>61a8e673f9cba188601e84ae</td>\n",
       "      <td>61a8e673f9cba188601e84ae</td>\n",
       "      <td>...</td>\n",
       "      <td>clh4x6qc5000008lf4vi15u9m</td>\n",
       "      <td>clh4x6qc5000008lf4vi15u9m</td>\n",
       "      <td>61a8e673f9cba188601e84ae</td>\n",
       "      <td>61a8e673f9cba188601e84ae</td>\n",
       "      <td>61a8e673f9cba188601e84b3</td>\n",
       "      <td>61a8e673f9cba188601e84ae</td>\n",
       "      <td>61a8e673f9cba188601e84b3</td>\n",
       "      <td>61a8e673f9cba188601e84ae</td>\n",
       "      <td>61a8e673f9cba188601e84b3</td>\n",
       "      <td>61a8e673f9cba188601e84b3</td>\n",
       "    </tr>\n",
       "    <tr>\n",
       "      <th>vesselId</th>\n",
       "      <td>61e9f38eb937134a3c4bfd8b</td>\n",
       "      <td>61e9f38eb937134a3c4bfd8d</td>\n",
       "      <td>61e9f38eb937134a3c4bfd8f</td>\n",
       "      <td>61e9f38eb937134a3c4bfd91</td>\n",
       "      <td>61e9f390b937134a3c4bfd93</td>\n",
       "      <td>61e9f391b937134a3c4bfd95</td>\n",
       "      <td>61e9f391b937134a3c4bfd97</td>\n",
       "      <td>61e9f392b937134a3c4bfd99</td>\n",
       "      <td>61e9f392b937134a3c4bfd9b</td>\n",
       "      <td>61e9f393b937134a3c4bfd9d</td>\n",
       "      <td>...</td>\n",
       "      <td>clh682fbq000qghxd3vn5xo01</td>\n",
       "      <td>clh682fbq000rghxd2u75zdbn</td>\n",
       "      <td>clh6aqawa0000gh0z7nc8e6nd</td>\n",
       "      <td>clh6aqawa0001gh0zmijpuho1</td>\n",
       "      <td>clh6aqawa0002gh0zypfa5dut</td>\n",
       "      <td>clh6aqawa0003gh0zu0aznvt2</td>\n",
       "      <td>clh6aqawa0004gh0z12aogec9</td>\n",
       "      <td>clh6aqawa0005gh0z64y4xyip</td>\n",
       "      <td>clh6aqawa0006gh0zje911dl3</td>\n",
       "      <td>clh6aqawa0007gh0z9h6zi9bo</td>\n",
       "    </tr>\n",
       "    <tr>\n",
       "      <th>CEU</th>\n",
       "      <td>6500</td>\n",
       "      <td>4902</td>\n",
       "      <td>5000</td>\n",
       "      <td>4200</td>\n",
       "      <td>7450</td>\n",
       "      <td>6200</td>\n",
       "      <td>5036</td>\n",
       "      <td>6237</td>\n",
       "      <td>6215</td>\n",
       "      <td>5000</td>\n",
       "      <td>...</td>\n",
       "      <td>0</td>\n",
       "      <td>0</td>\n",
       "      <td>7600</td>\n",
       "      <td>5000</td>\n",
       "      <td>300</td>\n",
       "      <td>6000</td>\n",
       "      <td>250</td>\n",
       "      <td>6015</td>\n",
       "      <td>150</td>\n",
       "      <td>200</td>\n",
       "    </tr>\n",
       "    <tr>\n",
       "      <th>DWT</th>\n",
       "      <td>21200.0</td>\n",
       "      <td>12325.0</td>\n",
       "      <td>13059.0</td>\n",
       "      <td>12588.0</td>\n",
       "      <td>21052.0</td>\n",
       "      <td>21616.0</td>\n",
       "      <td>15290.0</td>\n",
       "      <td>18930.0</td>\n",
       "      <td>18668.0</td>\n",
       "      <td>12991.0</td>\n",
       "      <td>...</td>\n",
       "      <td>108650.0</td>\n",
       "      <td>108650.0</td>\n",
       "      <td>18322.0</td>\n",
       "      <td>11315.0</td>\n",
       "      <td>12502.0</td>\n",
       "      <td>18770.0</td>\n",
       "      <td>6440.0</td>\n",
       "      <td>17228.0</td>\n",
       "      <td>13800.0</td>\n",
       "      <td>12784.0</td>\n",
       "    </tr>\n",
       "    <tr>\n",
       "      <th>GT</th>\n",
       "      <td>58684</td>\n",
       "      <td>46800</td>\n",
       "      <td>46800</td>\n",
       "      <td>39362</td>\n",
       "      <td>75528</td>\n",
       "      <td>58535</td>\n",
       "      <td>48927</td>\n",
       "      <td>59493</td>\n",
       "      <td>59447</td>\n",
       "      <td>39422</td>\n",
       "      <td>...</td>\n",
       "      <td>60193</td>\n",
       "      <td>60193</td>\n",
       "      <td>72700</td>\n",
       "      <td>47057</td>\n",
       "      <td>21005</td>\n",
       "      <td>59516</td>\n",
       "      <td>26478</td>\n",
       "      <td>55493</td>\n",
       "      <td>23128</td>\n",
       "      <td>24133</td>\n",
       "    </tr>\n",
       "    <tr>\n",
       "      <th>NT</th>\n",
       "      <td>17606.0</td>\n",
       "      <td>NaN</td>\n",
       "      <td>NaN</td>\n",
       "      <td>NaN</td>\n",
       "      <td>24391.0</td>\n",
       "      <td>17561.0</td>\n",
       "      <td>14679.0</td>\n",
       "      <td>19244.0</td>\n",
       "      <td>19152.0</td>\n",
       "      <td>NaN</td>\n",
       "      <td>...</td>\n",
       "      <td>NaN</td>\n",
       "      <td>NaN</td>\n",
       "      <td>NaN</td>\n",
       "      <td>NaN</td>\n",
       "      <td>NaN</td>\n",
       "      <td>NaN</td>\n",
       "      <td>NaN</td>\n",
       "      <td>NaN</td>\n",
       "      <td>NaN</td>\n",
       "      <td>NaN</td>\n",
       "    </tr>\n",
       "    <tr>\n",
       "      <th>vesselType</th>\n",
       "      <td>83.0</td>\n",
       "      <td>83.0</td>\n",
       "      <td>83.0</td>\n",
       "      <td>83.0</td>\n",
       "      <td>83.0</td>\n",
       "      <td>83.0</td>\n",
       "      <td>83.0</td>\n",
       "      <td>83.0</td>\n",
       "      <td>83.0</td>\n",
       "      <td>83.0</td>\n",
       "      <td>...</td>\n",
       "      <td>NaN</td>\n",
       "      <td>NaN</td>\n",
       "      <td>83.0</td>\n",
       "      <td>83.0</td>\n",
       "      <td>83.0</td>\n",
       "      <td>83.0</td>\n",
       "      <td>83.0</td>\n",
       "      <td>83.0</td>\n",
       "      <td>83.0</td>\n",
       "      <td>83.0</td>\n",
       "    </tr>\n",
       "    <tr>\n",
       "      <th>breadth</th>\n",
       "      <td>32.0</td>\n",
       "      <td>31.0</td>\n",
       "      <td>31.0</td>\n",
       "      <td>28.0</td>\n",
       "      <td>37.2</td>\n",
       "      <td>32.26</td>\n",
       "      <td>32.2</td>\n",
       "      <td>32.26</td>\n",
       "      <td>32.26</td>\n",
       "      <td>28.0</td>\n",
       "      <td>...</td>\n",
       "      <td>42.0</td>\n",
       "      <td>42.0</td>\n",
       "      <td>38.0</td>\n",
       "      <td>32.0</td>\n",
       "      <td>25.0</td>\n",
       "      <td>32.0</td>\n",
       "      <td>26.0</td>\n",
       "      <td>32.0</td>\n",
       "      <td>21.0</td>\n",
       "      <td>26.0</td>\n",
       "    </tr>\n",
       "    <tr>\n",
       "      <th>depth</th>\n",
       "      <td>22.2</td>\n",
       "      <td>NaN</td>\n",
       "      <td>NaN</td>\n",
       "      <td>NaN</td>\n",
       "      <td>22.23</td>\n",
       "      <td>23.75</td>\n",
       "      <td>21.42</td>\n",
       "      <td>21.31</td>\n",
       "      <td>21.31</td>\n",
       "      <td>NaN</td>\n",
       "      <td>...</td>\n",
       "      <td>NaN</td>\n",
       "      <td>NaN</td>\n",
       "      <td>NaN</td>\n",
       "      <td>NaN</td>\n",
       "      <td>NaN</td>\n",
       "      <td>NaN</td>\n",
       "      <td>NaN</td>\n",
       "      <td>NaN</td>\n",
       "      <td>NaN</td>\n",
       "      <td>NaN</td>\n",
       "    </tr>\n",
       "    <tr>\n",
       "      <th>draft</th>\n",
       "      <td>NaN</td>\n",
       "      <td>NaN</td>\n",
       "      <td>NaN</td>\n",
       "      <td>NaN</td>\n",
       "      <td>NaN</td>\n",
       "      <td>NaN</td>\n",
       "      <td>NaN</td>\n",
       "      <td>NaN</td>\n",
       "      <td>NaN</td>\n",
       "      <td>NaN</td>\n",
       "      <td>...</td>\n",
       "      <td>15.35</td>\n",
       "      <td>15.4</td>\n",
       "      <td>9.73</td>\n",
       "      <td>8.75</td>\n",
       "      <td>7.5</td>\n",
       "      <td>10.0</td>\n",
       "      <td>5.75</td>\n",
       "      <td>9.62</td>\n",
       "      <td>7.82</td>\n",
       "      <td>7.58</td>\n",
       "    </tr>\n",
       "    <tr>\n",
       "      <th>enginePower</th>\n",
       "      <td>0.0</td>\n",
       "      <td>14220.0</td>\n",
       "      <td>14220.0</td>\n",
       "      <td>11060.0</td>\n",
       "      <td>13140.0</td>\n",
       "      <td>13200.0</td>\n",
       "      <td>12500.0</td>\n",
       "      <td>13260.0</td>\n",
       "      <td>13260.0</td>\n",
       "      <td>0.0</td>\n",
       "      <td>...</td>\n",
       "      <td>NaN</td>\n",
       "      <td>NaN</td>\n",
       "      <td>NaN</td>\n",
       "      <td>NaN</td>\n",
       "      <td>NaN</td>\n",
       "      <td>NaN</td>\n",
       "      <td>NaN</td>\n",
       "      <td>NaN</td>\n",
       "      <td>NaN</td>\n",
       "      <td>NaN</td>\n",
       "    </tr>\n",
       "    <tr>\n",
       "      <th>freshWater</th>\n",
       "      <td>NaN</td>\n",
       "      <td>NaN</td>\n",
       "      <td>NaN</td>\n",
       "      <td>NaN</td>\n",
       "      <td>491.47</td>\n",
       "      <td>790.0</td>\n",
       "      <td>516.0</td>\n",
       "      <td>659.0</td>\n",
       "      <td>659.0</td>\n",
       "      <td>NaN</td>\n",
       "      <td>...</td>\n",
       "      <td>NaN</td>\n",
       "      <td>NaN</td>\n",
       "      <td>NaN</td>\n",
       "      <td>NaN</td>\n",
       "      <td>NaN</td>\n",
       "      <td>NaN</td>\n",
       "      <td>NaN</td>\n",
       "      <td>NaN</td>\n",
       "      <td>NaN</td>\n",
       "      <td>NaN</td>\n",
       "    </tr>\n",
       "    <tr>\n",
       "      <th>fuel</th>\n",
       "      <td>NaN</td>\n",
       "      <td>NaN</td>\n",
       "      <td>NaN</td>\n",
       "      <td>NaN</td>\n",
       "      <td>3236.78</td>\n",
       "      <td>3340.0</td>\n",
       "      <td>3111.0</td>\n",
       "      <td>3010.0</td>\n",
       "      <td>2808.0</td>\n",
       "      <td>NaN</td>\n",
       "      <td>...</td>\n",
       "      <td>NaN</td>\n",
       "      <td>NaN</td>\n",
       "      <td>NaN</td>\n",
       "      <td>NaN</td>\n",
       "      <td>NaN</td>\n",
       "      <td>NaN</td>\n",
       "      <td>NaN</td>\n",
       "      <td>NaN</td>\n",
       "      <td>NaN</td>\n",
       "      <td>NaN</td>\n",
       "    </tr>\n",
       "    <tr>\n",
       "      <th>homePort</th>\n",
       "      <td>OSLO</td>\n",
       "      <td>MONROVIA</td>\n",
       "      <td>SAINT JOHN'S</td>\n",
       "      <td>NaN</td>\n",
       "      <td>Panama</td>\n",
       "      <td>Panama</td>\n",
       "      <td>Panama</td>\n",
       "      <td>Panama</td>\n",
       "      <td>Panama</td>\n",
       "      <td>Panama</td>\n",
       "      <td>...</td>\n",
       "      <td>NaN</td>\n",
       "      <td>NaN</td>\n",
       "      <td>NaN</td>\n",
       "      <td>NaN</td>\n",
       "      <td>NaN</td>\n",
       "      <td>NaN</td>\n",
       "      <td>NaN</td>\n",
       "      <td>NaN</td>\n",
       "      <td>NaN</td>\n",
       "      <td>NaN</td>\n",
       "    </tr>\n",
       "    <tr>\n",
       "      <th>length</th>\n",
       "      <td>199.0</td>\n",
       "      <td>182.0</td>\n",
       "      <td>182.0</td>\n",
       "      <td>167.0</td>\n",
       "      <td>199.98</td>\n",
       "      <td>199.9</td>\n",
       "      <td>179.99</td>\n",
       "      <td>199.97</td>\n",
       "      <td>199.97</td>\n",
       "      <td>188.0</td>\n",
       "      <td>...</td>\n",
       "      <td>243.0</td>\n",
       "      <td>243.0</td>\n",
       "      <td>200.0</td>\n",
       "      <td>183.0</td>\n",
       "      <td>182.0</td>\n",
       "      <td>200.0</td>\n",
       "      <td>177.0</td>\n",
       "      <td>200.0</td>\n",
       "      <td>191.0</td>\n",
       "      <td>191.0</td>\n",
       "    </tr>\n",
       "    <tr>\n",
       "      <th>maxHeight</th>\n",
       "      <td>5.0</td>\n",
       "      <td>NaN</td>\n",
       "      <td>NaN</td>\n",
       "      <td>NaN</td>\n",
       "      <td>NaN</td>\n",
       "      <td>NaN</td>\n",
       "      <td>NaN</td>\n",
       "      <td>NaN</td>\n",
       "      <td>NaN</td>\n",
       "      <td>NaN</td>\n",
       "      <td>...</td>\n",
       "      <td>NaN</td>\n",
       "      <td>NaN</td>\n",
       "      <td>NaN</td>\n",
       "      <td>NaN</td>\n",
       "      <td>NaN</td>\n",
       "      <td>NaN</td>\n",
       "      <td>NaN</td>\n",
       "      <td>NaN</td>\n",
       "      <td>NaN</td>\n",
       "      <td>NaN</td>\n",
       "    </tr>\n",
       "    <tr>\n",
       "      <th>maxSpeed</th>\n",
       "      <td>18.6</td>\n",
       "      <td>NaN</td>\n",
       "      <td>NaN</td>\n",
       "      <td>NaN</td>\n",
       "      <td>NaN</td>\n",
       "      <td>22.0</td>\n",
       "      <td>22.6</td>\n",
       "      <td>21.9</td>\n",
       "      <td>22.1</td>\n",
       "      <td>NaN</td>\n",
       "      <td>...</td>\n",
       "      <td>NaN</td>\n",
       "      <td>NaN</td>\n",
       "      <td>NaN</td>\n",
       "      <td>NaN</td>\n",
       "      <td>NaN</td>\n",
       "      <td>NaN</td>\n",
       "      <td>NaN</td>\n",
       "      <td>NaN</td>\n",
       "      <td>NaN</td>\n",
       "      <td>NaN</td>\n",
       "    </tr>\n",
       "    <tr>\n",
       "      <th>maxWidth</th>\n",
       "      <td>15.2</td>\n",
       "      <td>NaN</td>\n",
       "      <td>NaN</td>\n",
       "      <td>NaN</td>\n",
       "      <td>NaN</td>\n",
       "      <td>NaN</td>\n",
       "      <td>NaN</td>\n",
       "      <td>NaN</td>\n",
       "      <td>NaN</td>\n",
       "      <td>NaN</td>\n",
       "      <td>...</td>\n",
       "      <td>NaN</td>\n",
       "      <td>NaN</td>\n",
       "      <td>NaN</td>\n",
       "      <td>NaN</td>\n",
       "      <td>NaN</td>\n",
       "      <td>NaN</td>\n",
       "      <td>NaN</td>\n",
       "      <td>NaN</td>\n",
       "      <td>NaN</td>\n",
       "      <td>NaN</td>\n",
       "    </tr>\n",
       "    <tr>\n",
       "      <th>rampCapacity</th>\n",
       "      <td>150.0</td>\n",
       "      <td>NaN</td>\n",
       "      <td>NaN</td>\n",
       "      <td>NaN</td>\n",
       "      <td>NaN</td>\n",
       "      <td>NaN</td>\n",
       "      <td>NaN</td>\n",
       "      <td>NaN</td>\n",
       "      <td>NaN</td>\n",
       "      <td>NaN</td>\n",
       "      <td>...</td>\n",
       "      <td>NaN</td>\n",
       "      <td>NaN</td>\n",
       "      <td>NaN</td>\n",
       "      <td>NaN</td>\n",
       "      <td>NaN</td>\n",
       "      <td>NaN</td>\n",
       "      <td>NaN</td>\n",
       "      <td>NaN</td>\n",
       "      <td>NaN</td>\n",
       "      <td>NaN</td>\n",
       "    </tr>\n",
       "    <tr>\n",
       "      <th>yearBuilt</th>\n",
       "      <td>2000</td>\n",
       "      <td>2006</td>\n",
       "      <td>2010</td>\n",
       "      <td>2011</td>\n",
       "      <td>2018</td>\n",
       "      <td>2011</td>\n",
       "      <td>2009</td>\n",
       "      <td>2008</td>\n",
       "      <td>2012</td>\n",
       "      <td>2006</td>\n",
       "      <td>...</td>\n",
       "      <td>2009</td>\n",
       "      <td>2009</td>\n",
       "      <td>2017</td>\n",
       "      <td>2010</td>\n",
       "      <td>2000</td>\n",
       "      <td>2014</td>\n",
       "      <td>1989</td>\n",
       "      <td>2002</td>\n",
       "      <td>2007</td>\n",
       "      <td>2017</td>\n",
       "    </tr>\n",
       "  </tbody>\n",
       "</table>\n",
       "<p>20 rows × 711 columns</p>\n",
       "</div>"
      ],
      "text/plain": [
       "                                     0                         1    \\\n",
       "shippingLineId  61a8e672f9cba188601e84ab  61ec94f1a8cafc0e93f0e92a   \n",
       "vesselId        61e9f38eb937134a3c4bfd8b  61e9f38eb937134a3c4bfd8d   \n",
       "CEU                                 6500                      4902   \n",
       "DWT                              21200.0                   12325.0   \n",
       "GT                                 58684                     46800   \n",
       "NT                               17606.0                       NaN   \n",
       "vesselType                          83.0                      83.0   \n",
       "breadth                             32.0                      31.0   \n",
       "depth                               22.2                       NaN   \n",
       "draft                                NaN                       NaN   \n",
       "enginePower                          0.0                   14220.0   \n",
       "freshWater                           NaN                       NaN   \n",
       "fuel                                 NaN                       NaN   \n",
       "homePort                            OSLO                  MONROVIA   \n",
       "length                             199.0                     182.0   \n",
       "maxHeight                            5.0                       NaN   \n",
       "maxSpeed                            18.6                       NaN   \n",
       "maxWidth                            15.2                       NaN   \n",
       "rampCapacity                       150.0                       NaN   \n",
       "yearBuilt                           2000                      2006   \n",
       "\n",
       "                                     2                         3    \\\n",
       "shippingLineId  61e213d5d612676a0f0fb755  61be24574ea00ae59d0fe388   \n",
       "vesselId        61e9f38eb937134a3c4bfd8f  61e9f38eb937134a3c4bfd91   \n",
       "CEU                                 5000                      4200   \n",
       "DWT                              13059.0                   12588.0   \n",
       "GT                                 46800                     39362   \n",
       "NT                                   NaN                       NaN   \n",
       "vesselType                          83.0                      83.0   \n",
       "breadth                             31.0                      28.0   \n",
       "depth                                NaN                       NaN   \n",
       "draft                                NaN                       NaN   \n",
       "enginePower                      14220.0                   11060.0   \n",
       "freshWater                           NaN                       NaN   \n",
       "fuel                                 NaN                       NaN   \n",
       "homePort                    SAINT JOHN'S                       NaN   \n",
       "length                             182.0                     167.0   \n",
       "maxHeight                            NaN                       NaN   \n",
       "maxSpeed                             NaN                       NaN   \n",
       "maxWidth                             NaN                       NaN   \n",
       "rampCapacity                         NaN                       NaN   \n",
       "yearBuilt                           2010                      2011   \n",
       "\n",
       "                                     4                         5    \\\n",
       "shippingLineId  61a8e673f9cba188601e84ae  61a8e673f9cba188601e84ae   \n",
       "vesselId        61e9f390b937134a3c4bfd93  61e9f391b937134a3c4bfd95   \n",
       "CEU                                 7450                      6200   \n",
       "DWT                              21052.0                   21616.0   \n",
       "GT                                 75528                     58535   \n",
       "NT                               24391.0                   17561.0   \n",
       "vesselType                          83.0                      83.0   \n",
       "breadth                             37.2                     32.26   \n",
       "depth                              22.23                     23.75   \n",
       "draft                                NaN                       NaN   \n",
       "enginePower                      13140.0                   13200.0   \n",
       "freshWater                        491.47                     790.0   \n",
       "fuel                             3236.78                    3340.0   \n",
       "homePort                          Panama                    Panama   \n",
       "length                            199.98                     199.9   \n",
       "maxHeight                            NaN                       NaN   \n",
       "maxSpeed                             NaN                      22.0   \n",
       "maxWidth                             NaN                       NaN   \n",
       "rampCapacity                         NaN                       NaN   \n",
       "yearBuilt                           2018                      2011   \n",
       "\n",
       "                                     6                         7    \\\n",
       "shippingLineId  61a8e673f9cba188601e84ae  61a8e673f9cba188601e84ae   \n",
       "vesselId        61e9f391b937134a3c4bfd97  61e9f392b937134a3c4bfd99   \n",
       "CEU                                 5036                      6237   \n",
       "DWT                              15290.0                   18930.0   \n",
       "GT                                 48927                     59493   \n",
       "NT                               14679.0                   19244.0   \n",
       "vesselType                          83.0                      83.0   \n",
       "breadth                             32.2                     32.26   \n",
       "depth                              21.42                     21.31   \n",
       "draft                                NaN                       NaN   \n",
       "enginePower                      12500.0                   13260.0   \n",
       "freshWater                         516.0                     659.0   \n",
       "fuel                              3111.0                    3010.0   \n",
       "homePort                          Panama                    Panama   \n",
       "length                            179.99                    199.97   \n",
       "maxHeight                            NaN                       NaN   \n",
       "maxSpeed                            22.6                      21.9   \n",
       "maxWidth                             NaN                       NaN   \n",
       "rampCapacity                         NaN                       NaN   \n",
       "yearBuilt                           2009                      2008   \n",
       "\n",
       "                                     8                         9    ...  \\\n",
       "shippingLineId  61a8e673f9cba188601e84ae  61a8e673f9cba188601e84ae  ...   \n",
       "vesselId        61e9f392b937134a3c4bfd9b  61e9f393b937134a3c4bfd9d  ...   \n",
       "CEU                                 6215                      5000  ...   \n",
       "DWT                              18668.0                   12991.0  ...   \n",
       "GT                                 59447                     39422  ...   \n",
       "NT                               19152.0                       NaN  ...   \n",
       "vesselType                          83.0                      83.0  ...   \n",
       "breadth                            32.26                      28.0  ...   \n",
       "depth                              21.31                       NaN  ...   \n",
       "draft                                NaN                       NaN  ...   \n",
       "enginePower                      13260.0                       0.0  ...   \n",
       "freshWater                         659.0                       NaN  ...   \n",
       "fuel                              2808.0                       NaN  ...   \n",
       "homePort                          Panama                    Panama  ...   \n",
       "length                            199.97                     188.0  ...   \n",
       "maxHeight                            NaN                       NaN  ...   \n",
       "maxSpeed                            22.1                       NaN  ...   \n",
       "maxWidth                             NaN                       NaN  ...   \n",
       "rampCapacity                         NaN                       NaN  ...   \n",
       "yearBuilt                           2012                      2006  ...   \n",
       "\n",
       "                                      701                        702  \\\n",
       "shippingLineId  clh4x6qc5000008lf4vi15u9m  clh4x6qc5000008lf4vi15u9m   \n",
       "vesselId        clh682fbq000qghxd3vn5xo01  clh682fbq000rghxd2u75zdbn   \n",
       "CEU                                     0                          0   \n",
       "DWT                              108650.0                   108650.0   \n",
       "GT                                  60193                      60193   \n",
       "NT                                    NaN                        NaN   \n",
       "vesselType                            NaN                        NaN   \n",
       "breadth                              42.0                       42.0   \n",
       "depth                                 NaN                        NaN   \n",
       "draft                               15.35                       15.4   \n",
       "enginePower                           NaN                        NaN   \n",
       "freshWater                            NaN                        NaN   \n",
       "fuel                                  NaN                        NaN   \n",
       "homePort                              NaN                        NaN   \n",
       "length                              243.0                      243.0   \n",
       "maxHeight                             NaN                        NaN   \n",
       "maxSpeed                              NaN                        NaN   \n",
       "maxWidth                              NaN                        NaN   \n",
       "rampCapacity                          NaN                        NaN   \n",
       "yearBuilt                            2009                       2009   \n",
       "\n",
       "                                      703                        704  \\\n",
       "shippingLineId   61a8e673f9cba188601e84ae   61a8e673f9cba188601e84ae   \n",
       "vesselId        clh6aqawa0000gh0z7nc8e6nd  clh6aqawa0001gh0zmijpuho1   \n",
       "CEU                                  7600                       5000   \n",
       "DWT                               18322.0                    11315.0   \n",
       "GT                                  72700                      47057   \n",
       "NT                                    NaN                        NaN   \n",
       "vesselType                           83.0                       83.0   \n",
       "breadth                              38.0                       32.0   \n",
       "depth                                 NaN                        NaN   \n",
       "draft                                9.73                       8.75   \n",
       "enginePower                           NaN                        NaN   \n",
       "freshWater                            NaN                        NaN   \n",
       "fuel                                  NaN                        NaN   \n",
       "homePort                              NaN                        NaN   \n",
       "length                              200.0                      183.0   \n",
       "maxHeight                             NaN                        NaN   \n",
       "maxSpeed                              NaN                        NaN   \n",
       "maxWidth                              NaN                        NaN   \n",
       "rampCapacity                          NaN                        NaN   \n",
       "yearBuilt                            2017                       2010   \n",
       "\n",
       "                                      705                        706  \\\n",
       "shippingLineId   61a8e673f9cba188601e84b3   61a8e673f9cba188601e84ae   \n",
       "vesselId        clh6aqawa0002gh0zypfa5dut  clh6aqawa0003gh0zu0aznvt2   \n",
       "CEU                                   300                       6000   \n",
       "DWT                               12502.0                    18770.0   \n",
       "GT                                  21005                      59516   \n",
       "NT                                    NaN                        NaN   \n",
       "vesselType                           83.0                       83.0   \n",
       "breadth                              25.0                       32.0   \n",
       "depth                                 NaN                        NaN   \n",
       "draft                                 7.5                       10.0   \n",
       "enginePower                           NaN                        NaN   \n",
       "freshWater                            NaN                        NaN   \n",
       "fuel                                  NaN                        NaN   \n",
       "homePort                              NaN                        NaN   \n",
       "length                              182.0                      200.0   \n",
       "maxHeight                             NaN                        NaN   \n",
       "maxSpeed                              NaN                        NaN   \n",
       "maxWidth                              NaN                        NaN   \n",
       "rampCapacity                          NaN                        NaN   \n",
       "yearBuilt                            2000                       2014   \n",
       "\n",
       "                                      707                        708  \\\n",
       "shippingLineId   61a8e673f9cba188601e84b3   61a8e673f9cba188601e84ae   \n",
       "vesselId        clh6aqawa0004gh0z12aogec9  clh6aqawa0005gh0z64y4xyip   \n",
       "CEU                                   250                       6015   \n",
       "DWT                                6440.0                    17228.0   \n",
       "GT                                  26478                      55493   \n",
       "NT                                    NaN                        NaN   \n",
       "vesselType                           83.0                       83.0   \n",
       "breadth                              26.0                       32.0   \n",
       "depth                                 NaN                        NaN   \n",
       "draft                                5.75                       9.62   \n",
       "enginePower                           NaN                        NaN   \n",
       "freshWater                            NaN                        NaN   \n",
       "fuel                                  NaN                        NaN   \n",
       "homePort                              NaN                        NaN   \n",
       "length                              177.0                      200.0   \n",
       "maxHeight                             NaN                        NaN   \n",
       "maxSpeed                              NaN                        NaN   \n",
       "maxWidth                              NaN                        NaN   \n",
       "rampCapacity                          NaN                        NaN   \n",
       "yearBuilt                            1989                       2002   \n",
       "\n",
       "                                      709                        710  \n",
       "shippingLineId   61a8e673f9cba188601e84b3   61a8e673f9cba188601e84b3  \n",
       "vesselId        clh6aqawa0006gh0zje911dl3  clh6aqawa0007gh0z9h6zi9bo  \n",
       "CEU                                   150                        200  \n",
       "DWT                               13800.0                    12784.0  \n",
       "GT                                  23128                      24133  \n",
       "NT                                    NaN                        NaN  \n",
       "vesselType                           83.0                       83.0  \n",
       "breadth                              21.0                       26.0  \n",
       "depth                                 NaN                        NaN  \n",
       "draft                                7.82                       7.58  \n",
       "enginePower                           NaN                        NaN  \n",
       "freshWater                            NaN                        NaN  \n",
       "fuel                                  NaN                        NaN  \n",
       "homePort                              NaN                        NaN  \n",
       "length                              191.0                      191.0  \n",
       "maxHeight                             NaN                        NaN  \n",
       "maxSpeed                              NaN                        NaN  \n",
       "maxWidth                              NaN                        NaN  \n",
       "rampCapacity                          NaN                        NaN  \n",
       "yearBuilt                            2007                       2017  \n",
       "\n",
       "[20 rows x 711 columns]"
      ]
     },
     "execution_count": 37,
     "metadata": {},
     "output_type": "execute_result"
    }
   ],
   "source": [
    "# Find and count duplicated rows\n",
    "duplicated_rows = train.duplicated()\n",
    "print(f\"Number of duplicated rows in ais_train: {duplicated_rows.sum()}\")\n",
    "\n",
    "# Display duplicated rows if any\n",
    "if duplicated_rows.sum() > 0:\n",
    "    print(train[duplicated_rows])\n",
    "    \n",
    "# Find and count duplicated rows\n",
    "duplicated_rows_ports = ports.duplicated()\n",
    "print(f\"Number of duplicated rows in ports: {duplicated_rows.sum()}\")\n",
    "\n",
    "# Display duplicated rows if any\n",
    "if duplicated_rows.sum() > 0:\n",
    "    print(ports[duplicated_rows])\n",
    "\n",
    "# Find and count duplicated rows\n",
    "duplicated_rows = vessels.duplicated()\n",
    "print(f\"Number of duplicated rows in vessels: {duplicated_rows.sum()}\")\n",
    "\n",
    "# Display duplicated rows if any\n",
    "if duplicated_rows.sum() > 0:\n",
    "    print(vessels[duplicated_rows])\n",
    "\n",
    "# Remove duplicated rows\n",
    "train = train.drop_duplicates()\n",
    "ports = ports.drop_duplicates()\n",
    "vessels = vessels.drop_duplicates()\n",
    "\n",
    "# Transpose the DataFrame so each column becomes a row, then check for duplicates\n",
    "#duplicated_columns = train.T.duplicated()\n",
    "\n",
    "# Get the names of duplicated columns\n",
    "#duplicated_feature_names = train.columns[duplicated_columns]\n",
    "#print(f\"Duplicated features: {list(duplicated_feature_names)}\")\n",
    "\n",
    "#train.T.drop_duplicates()\n",
    "\n",
    "#Transpose the DataFrame so each column becomes a row, then check for duplicates\n",
    "duplicated_columns = ports.T.duplicated()\n",
    "\n",
    "#Get the names of duplicated columns\n",
    "duplicated_feature_names = ports.columns[duplicated_columns]\n",
    "print(f\"Directly duplicated features in ports: {list(duplicated_feature_names)}\")\n",
    "\n",
    "ports.T.drop_duplicates()\n",
    "\n",
    "#Transpose the DataFrame so each column becomes a row, then check for duplicates\n",
    "duplicated_columns = vessels.T.duplicated()\n",
    "\n",
    "#Get the names of duplicated columns\n",
    "duplicated_feature_names = vessels.columns[duplicated_columns]\n",
    "print(f\"Directly duplicated features in vessels: {list(duplicated_feature_names)}\")\n",
    "\n",
    "vessels.T.drop_duplicates()"
   ]
  },
  {
   "cell_type": "markdown",
   "id": "c597dcbc-1b50-424b-abb6-2bbbb9a8eb52",
   "metadata": {},
   "source": [
    "# Model predictors"
   ]
  },
  {
   "cell_type": "markdown",
   "id": "3051856b-7ebd-4121-a8de-d674d96fde97",
   "metadata": {},
   "source": [
    "We have chosen to use two model predictors with which we achieved our best results. The models we are using are Random Forest and TabNet. Random Forest is an ensemble learning method that builds multiple decision trees and aggrgates their results to improve predictive accuracy and reduce overfitting. TabNet is a deep learning model that is specifically designed to perform well on tabular data. The model combines neural network layers with attention mechanisms to help it automatically learn which features to focus on for each prediction."
   ]
  },
  {
   "cell_type": "markdown",
   "id": "dda45a27-191b-4710-8eb1-d1b00a4c8a44",
   "metadata": {},
   "source": [
    "# Feature engineering"
   ]
  },
  {
   "cell_type": "markdown",
   "id": "5a6a614c-b5e8-4056-b05a-bccf4a560714",
   "metadata": {},
   "source": [
    "Feature engineering has a significant role in processing the data for machine learning appilcations. It involves creating, transforming or selecting different features in a dataset, which can improve the models ability to make predictions.\n",
    "\n",
    "Both the feature selection and extraction described below in the cell block are applied to both the Tabnet and Random forest model."
   ]
  },
  {
   "cell_type": "markdown",
   "id": "b5dde17f-4c5c-49b1-b2a4-5dcc317d227d",
   "metadata": {},
   "source": [
    "## Feature extraction"
   ]
  },
  {
   "cell_type": "markdown",
   "id": "366e31f6-c435-40b3-a2e1-bea0cddf82e9",
   "metadata": {},
   "source": [
    "Through many trials and experimentation of different features, we have mostly tried adding features to improve the models performance.\n",
    "\n",
    "Principal component analysis(PCA) have also been used to reduce the dimensionality of the dataset by finding the directions, or principal components along which the data varies the most. Where we have set to retain 95\\% of the variance. After implementing PCA and trying we were not able to improve the models performance.\n",
    "Features added:"
   ]
  },
  {
   "cell_type": "code",
   "execution_count": 38,
   "id": "3dffcd51-e049-465c-a120-0df4b1cebf44",
   "metadata": {},
   "outputs": [],
   "source": [
    "'''\n",
    "# Feature Extraction\n",
    "# Compute the time difference between consecutive points (grouped by vesselId)\n",
    "df_train['time_difference'] = df_train.groupby('vesselId')['time'].diff().dt.total_seconds()\n",
    "df_test['time_difference'] = df_test.groupby('vesselId')['time'].diff().dt.total_seconds()\n",
    "\n",
    "# Calculate previous latitude and longitude\n",
    "df_train['lat_prev'] = df_train.groupby('vesselId')['latitude'].shift(1)\n",
    "df_train['lon_prev'] = df_train.groupby('vesselId')['longitude'].shift(1)\n",
    "\n",
    "# Apply vectorized function for distance calculation\n",
    "df_train['distance'] = df_train.apply(lambda row: get_distance(row['latitude'], row['longitude'], row['lat_prev'], row['lon_prev']), axis=1)\n",
    "\n",
    "# Ensure time_difference and distance are present\n",
    "df_train['time_difference'] = df_train['time_difference'].fillna(0)\n",
    "df_train['distance'] = df_train['distance'].fillna(0)\n",
    "\n",
    "# Calculate average speed (in meters per second)\n",
    "df_train['avg_speed'] = df_train['distance'] / df_train['time_difference']\n",
    "\n",
    "# Handle cases where time_difference is zero to avoid division by zero errors\n",
    "df_train['avg_speed'] = df_train['avg_speed'].replace([np.inf, -np.inf], 0).fillna(0)\n",
    "\n",
    "# Convert avg_speed to knots (optional)\n",
    "df_train['avg_speed_knots'] = df_train['avg_speed'] * 1.94384  # 1 m/s = 1.94384 knots\n",
    "\n",
    "\n",
    "df_train['moving'] = df_train['distance'].apply(lambda x: 1 if x > 100 else 0)\n",
    "\n",
    "# add a moving_speed column that is 1 if \"avg_speed_knots\" > 1, otherwise 0\n",
    "df_train['moving_speed'] = df_train['avg_speed_knots'].apply(lambda x: 1 if x > 1 else 0)\n",
    "\n",
    "# add column \"moving_based_on_speed\" that is 1 if \"avg_speed_knots\" > 1, otherwise 0\n",
    "df_train['moving_based_on_speed'] = df_train['avg_speed_knots'].apply(lambda x: 1 if x > 1 else 0)\n",
    "\n",
    "# Calculate bearing between consecutive points\n",
    "df_train['lat_prev'] = df_train.groupby('vesselId')['latitude'].shift(1)\n",
    "df_train['lon_prev'] = df_train.groupby('vesselId')['longitude'].shift(1)\n",
    "\n",
    "df_train['bearing'] = df_train.apply(lambda row: calculate_bearing(row['lat_prev'], row['lon_prev'], row['latitude'], row['longitude']), axis=1)\n",
    "\n",
    "# Calculate change in speed (acceleration) over time\n",
    "df_train['prev_speed'] = df_train.groupby('vesselId')['sog'].shift(1)  # Shift previous speed over ground (sog)\n",
    "df_train['acceleration'] = (df_train['sog'] - df_train['prev_speed']) / df_train['time_difference']\n",
    "\n",
    "# Fill NaN values with 0 for the first row of each vessel\n",
    "df_train['acceleration'] = df_train['acceleration'].fillna(0)\n",
    "\n",
    "# Calculate heading change (turn rate)\n",
    "df_train['prev_heading'] = df_train.groupby('vesselId')['heading'].shift(1)\n",
    "df_train['heading_change'] = df_train['heading'] - df_train['prev_heading']\n",
    "\n",
    "# Normalize heading change to -180 to 180 degrees to avoid large jumps in the values\n",
    "df_train['heading_change'] = df_train['heading_change'].apply(lambda x: (x + 180) % 360 - 180)\n",
    "\n",
    "# Time-based Features\n",
    "# Convert type of \"time\" column to datetime\n",
    "df_train['time'] = pd.to_datetime(df_train['time'])\n",
    "\n",
    "# Convert type of \"time\" column to datetime\n",
    "df_test['time'] = pd.to_datetime(df_test['time'])\n",
    "\n",
    "# Extract hour of the day\n",
    "df_train['hour_of_day'] = df_train['time'].dt.hour\n",
    "\n",
    "# Extract day of the week (0 = Monday, 6 = Sunday)\n",
    "df_train['day_of_week'] = df_train['time'].dt.dayofweek\n",
    "'''"
   ]
  },
  {
   "cell_type": "markdown",
   "id": "4938d8f5-71d1-4361-9a26-e7677c0b3382",
   "metadata": {},
   "source": [
    "Distance Calculation: Using latitude and longitude, this part calculates the distance between consecutive points.\n",
    "\n",
    "Average Speed and Conversion to Knots: This includes speed calculations and conversions, creating a more interpretable feature.\n",
    "\n",
    "Bearing Calculation: The notebook calculates the bearing between consecutive coordinates, a feature indicating direction.\n",
    "\n",
    "Acceleration and Heading Change (Turn Rate): These derived features may indicate sudden movements or directional changes.\n",
    "\n",
    "Extracting Time-Based Features: Hour and day of the week are extracted from the timestamp, aiding models that may benefit from time-period analysis."
   ]
  },
  {
   "cell_type": "markdown",
   "id": "581459ef-0c55-4168-93aa-a4d474441afd",
   "metadata": {},
   "source": [
    "Helper functions:"
   ]
  },
  {
   "cell_type": "code",
   "execution_count": 39,
   "id": "bde00e60-96db-4669-8560-53642a15fe07",
   "metadata": {
    "tags": []
   },
   "outputs": [],
   "source": [
    "## Helper functions\n",
    "'''\n",
    "# Get distance moved between two consecutive points\n",
    "def get_distance(lat, lon, lat_prev, lon_prev):\n",
    "    if pd.notna(lat_prev) and pd.notna(lon_prev):\n",
    "        return geodesic((lat, lon), (lat_prev, lon_prev)).meters\n",
    "    else:\n",
    "        return 0  # No previous data point means no movement\n",
    "\n",
    "\n",
    "def calculate_bearing(lat1, lon1, lat2, lon2):\n",
    "    \"\"\"\n",
    "    Calculate the bearing between two latitude/longitude points.\n",
    "    The formula is based on the initial bearing from point 1 to point 2.\n",
    "    \"\"\"\n",
    "    lat1, lon1, lat2, lon2 = map(np.radians, [lat1, lon1, lat2, lon2])\n",
    "    dlon = lon2 - lon1\n",
    "    x = np.sin(dlon) * np.cos(lat2)\n",
    "    y = np.cos(lat1) * np.sin(lat2) - np.sin(lat1) * np.cos(lat2) * np.cos(dlon)\n",
    "    bearing = np.degrees(np.arctan2(x, y))\n",
    "    return (bearing + 360) % 360  # Normalize to 0-360 degrees\n",
    "    \n",
    "'''"
   ]
  },
  {
   "cell_type": "markdown",
   "id": "8089a59e-f8b0-4376-b8ac-0b775df80495",
   "metadata": {},
   "source": [
    "## Feature selection"
   ]
  },
  {
   "cell_type": "markdown",
   "id": "7c51cbe5-941d-47ff-92c9-2ada5888d011",
   "metadata": {},
   "source": [
    "We tried several features, and found that removing them brought better results to the performance of the model. In addition, we created several features from different features which allowed us to remove the unnecessary features."
   ]
  },
  {
   "cell_type": "markdown",
   "id": "a8d5dd27-9227-4cab-a534-889185d02242",
   "metadata": {},
   "source": [
    "Features removed:"
   ]
  },
  {
   "cell_type": "code",
   "execution_count": 40,
   "id": "2db57730-5255-4655-bdec-3912d200659f",
   "metadata": {},
   "outputs": [],
   "source": [
    "## Feature selection\n",
    "'''\n",
    "# Drop unnecessary columns\n",
    "df_train.drop(['lat_prev', 'lon_prev'], axis=1, inplace=True)\n",
    "\n",
    "df_train.drop('prev_speed', axis=1, inplace=True)  # Clean up unnecessary columns\n",
    "\n",
    "df_train.drop('prev_heading', axis=1, inplace=True)\n",
    "'''"
   ]
  },
  {
   "cell_type": "markdown",
   "id": "52247128-d500-44ae-8dbe-c918929cdad1",
   "metadata": {},
   "source": [
    "Columns such as $lat\\_prev$, $lon\\_prev$, $prev\\_speed$, and $prev\\_heading$ are removed after they have been used to calculate derived features."
   ]
  },
  {
   "cell_type": "markdown",
   "id": "43fc9388-f393-44b6-9b52-6dea039ec7ad",
   "metadata": {},
   "source": [
    "## Non Functioning - Feature Extraction"
   ]
  },
  {
   "cell_type": "markdown",
   "id": "ea21a628-0e92-48db-b10a-536d6990c26b",
   "metadata": {},
   "source": [
    "We tried these feature extractions, but was not able to improve the model performance, and therefore was not used."
   ]
  },
  {
   "cell_type": "code",
   "execution_count": 41,
   "id": "63e9806d-98d1-44a6-81f0-a6b9e61e135b",
   "metadata": {
    "tags": []
   },
   "outputs": [],
   "source": [
    "## Feature extraction - Did not improve the predictions:\n",
    "'''\n",
    "def haversine(lat1, lon1, lat2, lon2):\n",
    "    # Haversine formula to calculate distance between two latitude-longitude points\n",
    "    R = 6371  # Radius of Earth in kilometers\n",
    "    dlat = np.radians(lat2 - lat1)\n",
    "    dlon = np.radians(lon2 - lon1)\n",
    "    a = np.sin(dlat / 2) ** 2 + np.cos(np.radians(lat1)) * np.cos(np.radians(lat2)) * np.sin(dlon / 2) ** 2\n",
    "    c = 2 * np.arctan2(np.sqrt(a), np.sqrt(1 - a))\n",
    "    return R * c\n",
    "\n",
    "df_train['latitude_difference'] = df_train.groupby('vesselId')['latitude'].diff().fillna(0)  # Fill NaNs with 0\n",
    "df_train['longitude_difference'] = df_train.groupby('vesselId')['longitude'].diff().fillna(0)  # Fill NaNs with 0\n",
    "\n",
    "df_train['haversine_distance'] = df_train.apply(lambda row: haversine(row['latitude'], row['longitude'],\n",
    "                                                          row['latitude'] - row['latitude_difference'],\n",
    "                                                          row['longitude'] - row['longitude_difference']), axis=1)\n",
    "\n",
    "df_train['cumulative_speed'] = df_train.groupby('vesselId')['avg_speed'].cumsum()\n",
    "\n",
    "df_train['cumulative_distance'] = df_train.groupby('vesselId')['distance'].cumsum()\n",
    "\n",
    "df_train['delta_cog'] = df_train.groupby('vesselId')['cog'].diff()\n",
    "df_train['delta_rot'] = df_train.groupby('vesselId')['rot'].diff()\n",
    "\n",
    "df_train['turn_rate'] = df_train.groupby('vesselId')['cog'].diff() / df_train['time_difference']\n",
    "'''"
   ]
  },
  {
   "cell_type": "markdown",
   "id": "c92ea0ec-799c-4295-8c0a-ecc70cf12778",
   "metadata": {},
   "source": [
    "# Model interpretation"
   ]
  },
  {
   "cell_type": "markdown",
   "id": "71d1fa5f-f011-4f1e-8fca-38ddb5c29a23",
   "metadata": {},
   "source": [
    "## Hyperparameter tuning"
   ]
  },
  {
   "cell_type": "markdown",
   "id": "b4970ae8-115e-4db4-a8b7-92421afdbb5e",
   "metadata": {},
   "source": [
    "For both random forest and TabNet we have performed hyperparameter tuning using Optuna hyperparameter search. An example of how hyperparameter tuning for TabNet using Optuna may be run is found below:"
   ]
  },
  {
   "cell_type": "code",
   "execution_count": 42,
   "id": "97f55d67-c46f-4742-ba2b-b697e44e6bd4",
   "metadata": {},
   "outputs": [],
   "source": [
    "#(Code here)"
   ]
  },
  {
   "cell_type": "markdown",
   "id": "09c2f4bf-c9e8-42f8-a6a3-6c6c1e46dd3a",
   "metadata": {},
   "source": [
    "## Feature importance"
   ]
  },
  {
   "cell_type": "markdown",
   "id": "5aeab5d4-f8ff-4565-ac43-3f1b72f28616",
   "metadata": {},
   "source": [
    "Below is a plot of the feature importance scores were found for the random forest model."
   ]
  },
  {
   "cell_type": "code",
   "execution_count": 43,
   "id": "a46cb7ca-5c1c-4fa7-883b-e82d9a5d83ee",
   "metadata": {},
   "outputs": [],
   "source": [
    "#(Code here)"
   ]
  },
  {
   "cell_type": "markdown",
   "id": "97f965db-11f8-41be-aca4-c54e79b15253",
   "metadata": {},
   "source": [
    "We observe from the analysis that the model relies mostly on the spatial and temporal model with features such as the latest longitude, latitude, and time elapsed are important. This indicates that maintaining historical positional data is critical for accurate predictions, as they help us describe the future trajectory of a specific vessel. Features such as directional angles and past speeds are also important but comparatively less so. Finally the vessel identifiers and navigation statuses have minimum contribution, and may suggest that it is sufficient to use the above-mentioned features. "
   ]
  },
  {
   "cell_type": "markdown",
   "id": "97be66c7-5d47-48c9-bc5f-440cdfdb573a",
   "metadata": {},
   "source": [
    "## LIME/SHAP Plots"
   ]
  },
  {
   "cell_type": "code",
   "execution_count": null,
   "id": "0f67d4b5-f63c-4056-a5ab-b2ea8b9168b9",
   "metadata": {},
   "outputs": [],
   "source": []
  },
  {
   "cell_type": "markdown",
   "id": "cdc8b193-ce85-4091-b938-87a7d334b930",
   "metadata": {},
   "source": [
    "# Post-processing and Results"
   ]
  },
  {
   "cell_type": "markdown",
   "id": "6ca60da8-fddd-4913-9811-1e945f71814a",
   "metadata": {},
   "source": [
    "## About post-processing"
   ]
  },
  {
   "cell_type": "markdown",
   "id": "bbbcea49-515c-4982-b2cf-b424b3a5aaed",
   "metadata": {},
   "source": [
    "We have chosen to perform two types of post-processing."
   ]
  },
  {
   "cell_type": "markdown",
   "id": "cfed6b93-faa5-40d3-8fe6-6e24b5b57a02",
   "metadata": {},
   "source": [
    "**Remove deviations**. This post-process step ensures that unrealistic predictions are being reassigned the predicted coordinates of any vessel that deviates significantly from its last seen location, which then ensures better consistency and more plausibility in the data. "
   ]
  },
  {
   "cell_type": "markdown",
   "id": "2f1bbb67-17b4-407a-a569-4af3ef18b6d4",
   "metadata": {},
   "source": [
    "**Outlier handling**. Handling outliers corrects the predicted locations for vessels given their schedules and last known locations, this goes particularly for vessels with large time gaps and whose positions are likely inaccurate and/or out of date. \n",
    "\n",
    "These post-processing steps align with the principles of machine learning by enhancing prediction accuracy, reliability, and realism through application of domain knowledge and data correction. The correction ensures realistic bounds, handling of outliers and missing data that would otherwise bias the end results. So to conclude these techniques reduce edge case errors, and support explainable AI by making the end results easier to interpret for real-life scenarios."
   ]
  },
  {
   "cell_type": "markdown",
   "id": "fd322245-1433-4710-81ef-5215e82a7298",
   "metadata": {},
   "source": [
    "## Results"
   ]
  },
  {
   "cell_type": "markdown",
   "id": "7cfda26b-1bc6-4414-9e35-b066b8e308e3",
   "metadata": {},
   "source": [
    "We would argue that the post-processing we have performed is valid. However, due to the late clarity of what type of post-processing is allowed and not we have chosen to include our results with and without the post-processing steps for both the Random Forest and TabNet models. In the result you will therefore get 4 CSVs which clearly state whether or not the post-processing steps have been applied. \n",
    "\n",
    "Results Random Forest on public data:\n",
    "\n",
    "No post-processing: 116\n",
    "\n",
    "With post-processing: 104\n",
    "\n",
    "\n",
    "Results from TabNet on public data:\n",
    "\n",
    "No post-processing: \n",
    "\n",
    "Post-processing: "
   ]
  },
  {
   "cell_type": "markdown",
   "id": "03cdb3a5-fb31-48b2-81ca-c8f9ff50094e",
   "metadata": {},
   "source": [
    "We would also like to mention that our best result for TabNet deviates from the best result on public data. This is because our model took long to run. The model which achieved the best public data result was run using n\\_a = n\\_d = 64 and epochs = 500. This led to a runtime of approx. 10 hours on one of the computers at the Finance lab 3rd floor at Kjelhuset, NTNU. This result may be recreated by simply changing these variables in the model creation. We have however chosen to turn in a less heavy model in order to both mitigate overfitting and make sure the code should be runable in less than 12 hours on a \"normal PC\". The specs of the PCs we ran the final TabNet model on may be found below."
   ]
  },
  {
   "cell_type": "code",
   "execution_count": 44,
   "id": "7e5a1022-c87f-46d6-8ed8-688f0c350981",
   "metadata": {},
   "outputs": [],
   "source": [
    "#specs"
   ]
  },
  {
   "cell_type": "markdown",
   "id": "0aeeee5e-60a3-4f6e-a13b-d6493e66552b",
   "metadata": {},
   "source": [
    "# Conclusion"
   ]
  },
  {
   "cell_type": "markdown",
   "id": "1599168f-e317-4af3-80b6-8a3a78b8531a",
   "metadata": {
    "tags": []
   },
   "source": [
    "In summary, we observe that TabNet achieves overall better results than Random Forest on the public test data. However, the model suffers by being far more computationally expensive. "
   ]
  }
 ],
 "metadata": {
  "environment": {
   "kernel": "python3",
   "name": "common-cpu.m125",
   "type": "gcloud",
   "uri": "us-docker.pkg.dev/deeplearning-platform-release/gcr.io/base-cpu:m125"
  },
  "kernelspec": {
   "display_name": "Python 3 (Local)",
   "language": "python",
   "name": "python3"
  },
  "language_info": {
   "codemirror_mode": {
    "name": "ipython",
    "version": 3
   },
   "file_extension": ".py",
   "mimetype": "text/x-python",
   "name": "python",
   "nbconvert_exporter": "python",
   "pygments_lexer": "ipython3",
   "version": "3.10.15"
  }
 },
 "nbformat": 4,
 "nbformat_minor": 5
}
